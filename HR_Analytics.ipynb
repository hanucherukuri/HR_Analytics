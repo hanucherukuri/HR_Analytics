{
  "nbformat": 4,
  "nbformat_minor": 0,
  "metadata": {
    "colab": {
      "name": "HR_Analytics.ipynb",
      "provenance": [],
      "collapsed_sections": [],
      "mount_file_id": "1dllYgDjyWHr4-l2Z-K347JX2Vbrog7XH",
      "authorship_tag": "ABX9TyMnP31w4dERIGrDEySExESF",
      "include_colab_link": true
    },
    "kernelspec": {
      "name": "python3",
      "display_name": "Python 3"
    }
  },
  "cells": [
    {
      "cell_type": "markdown",
      "metadata": {
        "id": "view-in-github",
        "colab_type": "text"
      },
      "source": [
        "<a href=\"https://colab.research.google.com/github/hanucherukuri/HR_Analytics/blob/main/HR_Analytics.ipynb\" target=\"_parent\"><img src=\"https://colab.research.google.com/assets/colab-badge.svg\" alt=\"Open In Colab\"/></a>"
      ]
    },
    {
      "cell_type": "markdown",
      "metadata": {
        "id": "dS21obUzZ4bB"
      },
      "source": [
        "# Import the Packages and Datasets"
      ]
    },
    {
      "cell_type": "code",
      "metadata": {
        "id": "1V_7C1AXX8cf"
      },
      "source": [
        "# Warning Libraries \r\n",
        "import warnings \r\n",
        "warnings.filterwarnings(\"ignore\")\r\n",
        "import numpy as np\r\n",
        "import pandas as pd \r\n",
        "import math\r\n",
        "import gc\r\n",
        "import os"
      ],
      "execution_count": 290,
      "outputs": []
    },
    {
      "cell_type": "code",
      "metadata": {
        "id": "oGdFqq3iYDgs"
      },
      "source": [
        "train_data=pd.read_csv(\"/content/drive/MyDrive/Practice Problems/HR Analytics/train_LZdllcl.csv\")"
      ],
      "execution_count": 291,
      "outputs": []
    },
    {
      "cell_type": "code",
      "metadata": {
        "id": "LDq24UGpldw0"
      },
      "source": [
        "train_data[\"source\"]=\"train\""
      ],
      "execution_count": 292,
      "outputs": []
    },
    {
      "cell_type": "code",
      "metadata": {
        "colab": {
          "base_uri": "https://localhost:8080/",
          "height": 282
        },
        "id": "GSWDO6ulYk3L",
        "outputId": "03e9be20-04a7-49db-b760-1f62160d0ad1"
      },
      "source": [
        "train_data.head()"
      ],
      "execution_count": 293,
      "outputs": [
        {
          "output_type": "execute_result",
          "data": {
            "text/html": [
              "<div>\n",
              "<style scoped>\n",
              "    .dataframe tbody tr th:only-of-type {\n",
              "        vertical-align: middle;\n",
              "    }\n",
              "\n",
              "    .dataframe tbody tr th {\n",
              "        vertical-align: top;\n",
              "    }\n",
              "\n",
              "    .dataframe thead th {\n",
              "        text-align: right;\n",
              "    }\n",
              "</style>\n",
              "<table border=\"1\" class=\"dataframe\">\n",
              "  <thead>\n",
              "    <tr style=\"text-align: right;\">\n",
              "      <th></th>\n",
              "      <th>employee_id</th>\n",
              "      <th>department</th>\n",
              "      <th>region</th>\n",
              "      <th>education</th>\n",
              "      <th>gender</th>\n",
              "      <th>recruitment_channel</th>\n",
              "      <th>no_of_trainings</th>\n",
              "      <th>age</th>\n",
              "      <th>previous_year_rating</th>\n",
              "      <th>length_of_service</th>\n",
              "      <th>KPIs_met &gt;80%</th>\n",
              "      <th>awards_won?</th>\n",
              "      <th>avg_training_score</th>\n",
              "      <th>is_promoted</th>\n",
              "      <th>source</th>\n",
              "    </tr>\n",
              "  </thead>\n",
              "  <tbody>\n",
              "    <tr>\n",
              "      <th>0</th>\n",
              "      <td>65438</td>\n",
              "      <td>Sales &amp; Marketing</td>\n",
              "      <td>region_7</td>\n",
              "      <td>Master's &amp; above</td>\n",
              "      <td>f</td>\n",
              "      <td>sourcing</td>\n",
              "      <td>1</td>\n",
              "      <td>35</td>\n",
              "      <td>5.0</td>\n",
              "      <td>8</td>\n",
              "      <td>1</td>\n",
              "      <td>0</td>\n",
              "      <td>49</td>\n",
              "      <td>0</td>\n",
              "      <td>train</td>\n",
              "    </tr>\n",
              "    <tr>\n",
              "      <th>1</th>\n",
              "      <td>65141</td>\n",
              "      <td>Operations</td>\n",
              "      <td>region_22</td>\n",
              "      <td>Bachelor's</td>\n",
              "      <td>m</td>\n",
              "      <td>other</td>\n",
              "      <td>1</td>\n",
              "      <td>30</td>\n",
              "      <td>5.0</td>\n",
              "      <td>4</td>\n",
              "      <td>0</td>\n",
              "      <td>0</td>\n",
              "      <td>60</td>\n",
              "      <td>0</td>\n",
              "      <td>train</td>\n",
              "    </tr>\n",
              "    <tr>\n",
              "      <th>2</th>\n",
              "      <td>7513</td>\n",
              "      <td>Sales &amp; Marketing</td>\n",
              "      <td>region_19</td>\n",
              "      <td>Bachelor's</td>\n",
              "      <td>m</td>\n",
              "      <td>sourcing</td>\n",
              "      <td>1</td>\n",
              "      <td>34</td>\n",
              "      <td>3.0</td>\n",
              "      <td>7</td>\n",
              "      <td>0</td>\n",
              "      <td>0</td>\n",
              "      <td>50</td>\n",
              "      <td>0</td>\n",
              "      <td>train</td>\n",
              "    </tr>\n",
              "    <tr>\n",
              "      <th>3</th>\n",
              "      <td>2542</td>\n",
              "      <td>Sales &amp; Marketing</td>\n",
              "      <td>region_23</td>\n",
              "      <td>Bachelor's</td>\n",
              "      <td>m</td>\n",
              "      <td>other</td>\n",
              "      <td>2</td>\n",
              "      <td>39</td>\n",
              "      <td>1.0</td>\n",
              "      <td>10</td>\n",
              "      <td>0</td>\n",
              "      <td>0</td>\n",
              "      <td>50</td>\n",
              "      <td>0</td>\n",
              "      <td>train</td>\n",
              "    </tr>\n",
              "    <tr>\n",
              "      <th>4</th>\n",
              "      <td>48945</td>\n",
              "      <td>Technology</td>\n",
              "      <td>region_26</td>\n",
              "      <td>Bachelor's</td>\n",
              "      <td>m</td>\n",
              "      <td>other</td>\n",
              "      <td>1</td>\n",
              "      <td>45</td>\n",
              "      <td>3.0</td>\n",
              "      <td>2</td>\n",
              "      <td>0</td>\n",
              "      <td>0</td>\n",
              "      <td>73</td>\n",
              "      <td>0</td>\n",
              "      <td>train</td>\n",
              "    </tr>\n",
              "  </tbody>\n",
              "</table>\n",
              "</div>"
            ],
            "text/plain": [
              "   employee_id         department  ... is_promoted source\n",
              "0        65438  Sales & Marketing  ...           0  train\n",
              "1        65141         Operations  ...           0  train\n",
              "2         7513  Sales & Marketing  ...           0  train\n",
              "3         2542  Sales & Marketing  ...           0  train\n",
              "4        48945         Technology  ...           0  train\n",
              "\n",
              "[5 rows x 15 columns]"
            ]
          },
          "metadata": {
            "tags": []
          },
          "execution_count": 293
        }
      ]
    },
    {
      "cell_type": "code",
      "metadata": {
        "id": "Grv2hM6pY1qg"
      },
      "source": [
        "test_data=pd.read_csv(\"/content/drive/MyDrive/Practice Problems/HR Analytics/test_2umaH9m.csv\")"
      ],
      "execution_count": 294,
      "outputs": []
    },
    {
      "cell_type": "code",
      "metadata": {
        "id": "8xK-t9hpl22R"
      },
      "source": [
        "test_data[\"source\"]=\"test\""
      ],
      "execution_count": 295,
      "outputs": []
    },
    {
      "cell_type": "code",
      "metadata": {
        "colab": {
          "base_uri": "https://localhost:8080/",
          "height": 249
        },
        "id": "wWIy0aYDY88o",
        "outputId": "784d63aa-9580-42e2-f763-400eba7e73a1"
      },
      "source": [
        "test_data.head()"
      ],
      "execution_count": 296,
      "outputs": [
        {
          "output_type": "execute_result",
          "data": {
            "text/html": [
              "<div>\n",
              "<style scoped>\n",
              "    .dataframe tbody tr th:only-of-type {\n",
              "        vertical-align: middle;\n",
              "    }\n",
              "\n",
              "    .dataframe tbody tr th {\n",
              "        vertical-align: top;\n",
              "    }\n",
              "\n",
              "    .dataframe thead th {\n",
              "        text-align: right;\n",
              "    }\n",
              "</style>\n",
              "<table border=\"1\" class=\"dataframe\">\n",
              "  <thead>\n",
              "    <tr style=\"text-align: right;\">\n",
              "      <th></th>\n",
              "      <th>employee_id</th>\n",
              "      <th>department</th>\n",
              "      <th>region</th>\n",
              "      <th>education</th>\n",
              "      <th>gender</th>\n",
              "      <th>recruitment_channel</th>\n",
              "      <th>no_of_trainings</th>\n",
              "      <th>age</th>\n",
              "      <th>previous_year_rating</th>\n",
              "      <th>length_of_service</th>\n",
              "      <th>KPIs_met &gt;80%</th>\n",
              "      <th>awards_won?</th>\n",
              "      <th>avg_training_score</th>\n",
              "      <th>source</th>\n",
              "    </tr>\n",
              "  </thead>\n",
              "  <tbody>\n",
              "    <tr>\n",
              "      <th>0</th>\n",
              "      <td>8724</td>\n",
              "      <td>Technology</td>\n",
              "      <td>region_26</td>\n",
              "      <td>Bachelor's</td>\n",
              "      <td>m</td>\n",
              "      <td>sourcing</td>\n",
              "      <td>1</td>\n",
              "      <td>24</td>\n",
              "      <td>NaN</td>\n",
              "      <td>1</td>\n",
              "      <td>1</td>\n",
              "      <td>0</td>\n",
              "      <td>77</td>\n",
              "      <td>test</td>\n",
              "    </tr>\n",
              "    <tr>\n",
              "      <th>1</th>\n",
              "      <td>74430</td>\n",
              "      <td>HR</td>\n",
              "      <td>region_4</td>\n",
              "      <td>Bachelor's</td>\n",
              "      <td>f</td>\n",
              "      <td>other</td>\n",
              "      <td>1</td>\n",
              "      <td>31</td>\n",
              "      <td>3.0</td>\n",
              "      <td>5</td>\n",
              "      <td>0</td>\n",
              "      <td>0</td>\n",
              "      <td>51</td>\n",
              "      <td>test</td>\n",
              "    </tr>\n",
              "    <tr>\n",
              "      <th>2</th>\n",
              "      <td>72255</td>\n",
              "      <td>Sales &amp; Marketing</td>\n",
              "      <td>region_13</td>\n",
              "      <td>Bachelor's</td>\n",
              "      <td>m</td>\n",
              "      <td>other</td>\n",
              "      <td>1</td>\n",
              "      <td>31</td>\n",
              "      <td>1.0</td>\n",
              "      <td>4</td>\n",
              "      <td>0</td>\n",
              "      <td>0</td>\n",
              "      <td>47</td>\n",
              "      <td>test</td>\n",
              "    </tr>\n",
              "    <tr>\n",
              "      <th>3</th>\n",
              "      <td>38562</td>\n",
              "      <td>Procurement</td>\n",
              "      <td>region_2</td>\n",
              "      <td>Bachelor's</td>\n",
              "      <td>f</td>\n",
              "      <td>other</td>\n",
              "      <td>3</td>\n",
              "      <td>31</td>\n",
              "      <td>2.0</td>\n",
              "      <td>9</td>\n",
              "      <td>0</td>\n",
              "      <td>0</td>\n",
              "      <td>65</td>\n",
              "      <td>test</td>\n",
              "    </tr>\n",
              "    <tr>\n",
              "      <th>4</th>\n",
              "      <td>64486</td>\n",
              "      <td>Finance</td>\n",
              "      <td>region_29</td>\n",
              "      <td>Bachelor's</td>\n",
              "      <td>m</td>\n",
              "      <td>sourcing</td>\n",
              "      <td>1</td>\n",
              "      <td>30</td>\n",
              "      <td>4.0</td>\n",
              "      <td>7</td>\n",
              "      <td>0</td>\n",
              "      <td>0</td>\n",
              "      <td>61</td>\n",
              "      <td>test</td>\n",
              "    </tr>\n",
              "  </tbody>\n",
              "</table>\n",
              "</div>"
            ],
            "text/plain": [
              "   employee_id         department  ... avg_training_score source\n",
              "0         8724         Technology  ...                 77   test\n",
              "1        74430                 HR  ...                 51   test\n",
              "2        72255  Sales & Marketing  ...                 47   test\n",
              "3        38562        Procurement  ...                 65   test\n",
              "4        64486            Finance  ...                 61   test\n",
              "\n",
              "[5 rows x 14 columns]"
            ]
          },
          "metadata": {
            "tags": []
          },
          "execution_count": 296
        }
      ]
    },
    {
      "cell_type": "code",
      "metadata": {
        "colab": {
          "base_uri": "https://localhost:8080/"
        },
        "id": "aGyfurcEY_OI",
        "outputId": "bf0980d2-864c-4a32-9c56-e273d0132611"
      },
      "source": [
        "train_data.shape, test_data.shape"
      ],
      "execution_count": 297,
      "outputs": [
        {
          "output_type": "execute_result",
          "data": {
            "text/plain": [
              "((54808, 15), (23490, 14))"
            ]
          },
          "metadata": {
            "tags": []
          },
          "execution_count": 297
        }
      ]
    },
    {
      "cell_type": "code",
      "metadata": {
        "id": "M8H-x89IZBu2"
      },
      "source": [
        "df=pd.concat([train_data, test_data], ignore_index=True)"
      ],
      "execution_count": 298,
      "outputs": []
    },
    {
      "cell_type": "code",
      "metadata": {
        "colab": {
          "base_uri": "https://localhost:8080/",
          "height": 282
        },
        "id": "R95vWmDoZe1S",
        "outputId": "a27934ac-932b-41cd-cf4d-fb3f9ec55385"
      },
      "source": [
        "df.head()"
      ],
      "execution_count": 299,
      "outputs": [
        {
          "output_type": "execute_result",
          "data": {
            "text/html": [
              "<div>\n",
              "<style scoped>\n",
              "    .dataframe tbody tr th:only-of-type {\n",
              "        vertical-align: middle;\n",
              "    }\n",
              "\n",
              "    .dataframe tbody tr th {\n",
              "        vertical-align: top;\n",
              "    }\n",
              "\n",
              "    .dataframe thead th {\n",
              "        text-align: right;\n",
              "    }\n",
              "</style>\n",
              "<table border=\"1\" class=\"dataframe\">\n",
              "  <thead>\n",
              "    <tr style=\"text-align: right;\">\n",
              "      <th></th>\n",
              "      <th>employee_id</th>\n",
              "      <th>department</th>\n",
              "      <th>region</th>\n",
              "      <th>education</th>\n",
              "      <th>gender</th>\n",
              "      <th>recruitment_channel</th>\n",
              "      <th>no_of_trainings</th>\n",
              "      <th>age</th>\n",
              "      <th>previous_year_rating</th>\n",
              "      <th>length_of_service</th>\n",
              "      <th>KPIs_met &gt;80%</th>\n",
              "      <th>awards_won?</th>\n",
              "      <th>avg_training_score</th>\n",
              "      <th>is_promoted</th>\n",
              "      <th>source</th>\n",
              "    </tr>\n",
              "  </thead>\n",
              "  <tbody>\n",
              "    <tr>\n",
              "      <th>0</th>\n",
              "      <td>65438</td>\n",
              "      <td>Sales &amp; Marketing</td>\n",
              "      <td>region_7</td>\n",
              "      <td>Master's &amp; above</td>\n",
              "      <td>f</td>\n",
              "      <td>sourcing</td>\n",
              "      <td>1</td>\n",
              "      <td>35</td>\n",
              "      <td>5.0</td>\n",
              "      <td>8</td>\n",
              "      <td>1</td>\n",
              "      <td>0</td>\n",
              "      <td>49</td>\n",
              "      <td>0.0</td>\n",
              "      <td>train</td>\n",
              "    </tr>\n",
              "    <tr>\n",
              "      <th>1</th>\n",
              "      <td>65141</td>\n",
              "      <td>Operations</td>\n",
              "      <td>region_22</td>\n",
              "      <td>Bachelor's</td>\n",
              "      <td>m</td>\n",
              "      <td>other</td>\n",
              "      <td>1</td>\n",
              "      <td>30</td>\n",
              "      <td>5.0</td>\n",
              "      <td>4</td>\n",
              "      <td>0</td>\n",
              "      <td>0</td>\n",
              "      <td>60</td>\n",
              "      <td>0.0</td>\n",
              "      <td>train</td>\n",
              "    </tr>\n",
              "    <tr>\n",
              "      <th>2</th>\n",
              "      <td>7513</td>\n",
              "      <td>Sales &amp; Marketing</td>\n",
              "      <td>region_19</td>\n",
              "      <td>Bachelor's</td>\n",
              "      <td>m</td>\n",
              "      <td>sourcing</td>\n",
              "      <td>1</td>\n",
              "      <td>34</td>\n",
              "      <td>3.0</td>\n",
              "      <td>7</td>\n",
              "      <td>0</td>\n",
              "      <td>0</td>\n",
              "      <td>50</td>\n",
              "      <td>0.0</td>\n",
              "      <td>train</td>\n",
              "    </tr>\n",
              "    <tr>\n",
              "      <th>3</th>\n",
              "      <td>2542</td>\n",
              "      <td>Sales &amp; Marketing</td>\n",
              "      <td>region_23</td>\n",
              "      <td>Bachelor's</td>\n",
              "      <td>m</td>\n",
              "      <td>other</td>\n",
              "      <td>2</td>\n",
              "      <td>39</td>\n",
              "      <td>1.0</td>\n",
              "      <td>10</td>\n",
              "      <td>0</td>\n",
              "      <td>0</td>\n",
              "      <td>50</td>\n",
              "      <td>0.0</td>\n",
              "      <td>train</td>\n",
              "    </tr>\n",
              "    <tr>\n",
              "      <th>4</th>\n",
              "      <td>48945</td>\n",
              "      <td>Technology</td>\n",
              "      <td>region_26</td>\n",
              "      <td>Bachelor's</td>\n",
              "      <td>m</td>\n",
              "      <td>other</td>\n",
              "      <td>1</td>\n",
              "      <td>45</td>\n",
              "      <td>3.0</td>\n",
              "      <td>2</td>\n",
              "      <td>0</td>\n",
              "      <td>0</td>\n",
              "      <td>73</td>\n",
              "      <td>0.0</td>\n",
              "      <td>train</td>\n",
              "    </tr>\n",
              "  </tbody>\n",
              "</table>\n",
              "</div>"
            ],
            "text/plain": [
              "   employee_id         department  ... is_promoted source\n",
              "0        65438  Sales & Marketing  ...         0.0  train\n",
              "1        65141         Operations  ...         0.0  train\n",
              "2         7513  Sales & Marketing  ...         0.0  train\n",
              "3         2542  Sales & Marketing  ...         0.0  train\n",
              "4        48945         Technology  ...         0.0  train\n",
              "\n",
              "[5 rows x 15 columns]"
            ]
          },
          "metadata": {
            "tags": []
          },
          "execution_count": 299
        }
      ]
    },
    {
      "cell_type": "code",
      "metadata": {
        "colab": {
          "base_uri": "https://localhost:8080/"
        },
        "id": "GTpSuIFHZmHN",
        "outputId": "91df3f22-0d59-4e13-a967-29fde60c17aa"
      },
      "source": [
        "df.shape"
      ],
      "execution_count": 300,
      "outputs": [
        {
          "output_type": "execute_result",
          "data": {
            "text/plain": [
              "(78298, 15)"
            ]
          },
          "metadata": {
            "tags": []
          },
          "execution_count": 300
        }
      ]
    },
    {
      "cell_type": "markdown",
      "metadata": {
        "id": "nUcsKbCDaFtc"
      },
      "source": [
        "# Descriptive Analytics"
      ]
    },
    {
      "cell_type": "code",
      "metadata": {
        "colab": {
          "base_uri": "https://localhost:8080/"
        },
        "id": "GZNDTAaXaJJs",
        "outputId": "b15437f4-302e-4df4-822c-f3e8c4d3b7de"
      },
      "source": [
        "df.dtypes"
      ],
      "execution_count": 301,
      "outputs": [
        {
          "output_type": "execute_result",
          "data": {
            "text/plain": [
              "employee_id               int64\n",
              "department               object\n",
              "region                   object\n",
              "education                object\n",
              "gender                   object\n",
              "recruitment_channel      object\n",
              "no_of_trainings           int64\n",
              "age                       int64\n",
              "previous_year_rating    float64\n",
              "length_of_service         int64\n",
              "KPIs_met >80%             int64\n",
              "awards_won?               int64\n",
              "avg_training_score        int64\n",
              "is_promoted             float64\n",
              "source                   object\n",
              "dtype: object"
            ]
          },
          "metadata": {
            "tags": []
          },
          "execution_count": 301
        }
      ]
    },
    {
      "cell_type": "code",
      "metadata": {
        "colab": {
          "base_uri": "https://localhost:8080/",
          "height": 321
        },
        "id": "SuJAYjtcxmOR",
        "outputId": "dbee8c76-9efb-4620-f9fa-3501b064d810"
      },
      "source": [
        "df.describe()"
      ],
      "execution_count": 302,
      "outputs": [
        {
          "output_type": "execute_result",
          "data": {
            "text/html": [
              "<div>\n",
              "<style scoped>\n",
              "    .dataframe tbody tr th:only-of-type {\n",
              "        vertical-align: middle;\n",
              "    }\n",
              "\n",
              "    .dataframe tbody tr th {\n",
              "        vertical-align: top;\n",
              "    }\n",
              "\n",
              "    .dataframe thead th {\n",
              "        text-align: right;\n",
              "    }\n",
              "</style>\n",
              "<table border=\"1\" class=\"dataframe\">\n",
              "  <thead>\n",
              "    <tr style=\"text-align: right;\">\n",
              "      <th></th>\n",
              "      <th>employee_id</th>\n",
              "      <th>no_of_trainings</th>\n",
              "      <th>age</th>\n",
              "      <th>previous_year_rating</th>\n",
              "      <th>length_of_service</th>\n",
              "      <th>KPIs_met &gt;80%</th>\n",
              "      <th>awards_won?</th>\n",
              "      <th>avg_training_score</th>\n",
              "      <th>is_promoted</th>\n",
              "    </tr>\n",
              "  </thead>\n",
              "  <tbody>\n",
              "    <tr>\n",
              "      <th>count</th>\n",
              "      <td>78298.000000</td>\n",
              "      <td>78298.000000</td>\n",
              "      <td>78298.000000</td>\n",
              "      <td>72362.000000</td>\n",
              "      <td>78298.000000</td>\n",
              "      <td>78298.000000</td>\n",
              "      <td>78298.000000</td>\n",
              "      <td>78298.000000</td>\n",
              "      <td>54808.000000</td>\n",
              "    </tr>\n",
              "    <tr>\n",
              "      <th>mean</th>\n",
              "      <td>39149.500000</td>\n",
              "      <td>1.253378</td>\n",
              "      <td>34.797619</td>\n",
              "      <td>3.332219</td>\n",
              "      <td>5.848974</td>\n",
              "      <td>0.354032</td>\n",
              "      <td>0.023053</td>\n",
              "      <td>63.349664</td>\n",
              "      <td>0.085170</td>\n",
              "    </tr>\n",
              "    <tr>\n",
              "      <th>std</th>\n",
              "      <td>22602.830026</td>\n",
              "      <td>0.606766</td>\n",
              "      <td>7.665928</td>\n",
              "      <td>1.260982</td>\n",
              "      <td>4.248070</td>\n",
              "      <td>0.478222</td>\n",
              "      <td>0.150073</td>\n",
              "      <td>13.383664</td>\n",
              "      <td>0.279137</td>\n",
              "    </tr>\n",
              "    <tr>\n",
              "      <th>min</th>\n",
              "      <td>1.000000</td>\n",
              "      <td>1.000000</td>\n",
              "      <td>20.000000</td>\n",
              "      <td>1.000000</td>\n",
              "      <td>1.000000</td>\n",
              "      <td>0.000000</td>\n",
              "      <td>0.000000</td>\n",
              "      <td>39.000000</td>\n",
              "      <td>0.000000</td>\n",
              "    </tr>\n",
              "    <tr>\n",
              "      <th>25%</th>\n",
              "      <td>19575.250000</td>\n",
              "      <td>1.000000</td>\n",
              "      <td>29.000000</td>\n",
              "      <td>3.000000</td>\n",
              "      <td>3.000000</td>\n",
              "      <td>0.000000</td>\n",
              "      <td>0.000000</td>\n",
              "      <td>51.000000</td>\n",
              "      <td>0.000000</td>\n",
              "    </tr>\n",
              "    <tr>\n",
              "      <th>50%</th>\n",
              "      <td>39149.500000</td>\n",
              "      <td>1.000000</td>\n",
              "      <td>33.000000</td>\n",
              "      <td>3.000000</td>\n",
              "      <td>5.000000</td>\n",
              "      <td>0.000000</td>\n",
              "      <td>0.000000</td>\n",
              "      <td>60.000000</td>\n",
              "      <td>0.000000</td>\n",
              "    </tr>\n",
              "    <tr>\n",
              "      <th>75%</th>\n",
              "      <td>58723.750000</td>\n",
              "      <td>1.000000</td>\n",
              "      <td>39.000000</td>\n",
              "      <td>4.000000</td>\n",
              "      <td>7.000000</td>\n",
              "      <td>1.000000</td>\n",
              "      <td>0.000000</td>\n",
              "      <td>76.000000</td>\n",
              "      <td>0.000000</td>\n",
              "    </tr>\n",
              "    <tr>\n",
              "      <th>max</th>\n",
              "      <td>78298.000000</td>\n",
              "      <td>10.000000</td>\n",
              "      <td>60.000000</td>\n",
              "      <td>5.000000</td>\n",
              "      <td>37.000000</td>\n",
              "      <td>1.000000</td>\n",
              "      <td>1.000000</td>\n",
              "      <td>99.000000</td>\n",
              "      <td>1.000000</td>\n",
              "    </tr>\n",
              "  </tbody>\n",
              "</table>\n",
              "</div>"
            ],
            "text/plain": [
              "        employee_id  no_of_trainings  ...  avg_training_score   is_promoted\n",
              "count  78298.000000     78298.000000  ...        78298.000000  54808.000000\n",
              "mean   39149.500000         1.253378  ...           63.349664      0.085170\n",
              "std    22602.830026         0.606766  ...           13.383664      0.279137\n",
              "min        1.000000         1.000000  ...           39.000000      0.000000\n",
              "25%    19575.250000         1.000000  ...           51.000000      0.000000\n",
              "50%    39149.500000         1.000000  ...           60.000000      0.000000\n",
              "75%    58723.750000         1.000000  ...           76.000000      0.000000\n",
              "max    78298.000000        10.000000  ...           99.000000      1.000000\n",
              "\n",
              "[8 rows x 9 columns]"
            ]
          },
          "metadata": {
            "tags": []
          },
          "execution_count": 302
        }
      ]
    },
    {
      "cell_type": "code",
      "metadata": {
        "id": "zDjZveJZiHCt"
      },
      "source": [
        "#df.apply(lambda x: len(x.unique()))"
      ],
      "execution_count": 303,
      "outputs": []
    },
    {
      "cell_type": "code",
      "metadata": {
        "colab": {
          "base_uri": "https://localhost:8080/"
        },
        "id": "00Bk995ziej9",
        "outputId": "fb82545d-d159-4ad0-89c4-dfd86463dbe7"
      },
      "source": [
        "df.isna().sum()"
      ],
      "execution_count": 304,
      "outputs": [
        {
          "output_type": "execute_result",
          "data": {
            "text/plain": [
              "employee_id                 0\n",
              "department                  0\n",
              "region                      0\n",
              "education                3443\n",
              "gender                      0\n",
              "recruitment_channel         0\n",
              "no_of_trainings             0\n",
              "age                         0\n",
              "previous_year_rating     5936\n",
              "length_of_service           0\n",
              "KPIs_met >80%               0\n",
              "awards_won?                 0\n",
              "avg_training_score          0\n",
              "is_promoted             23490\n",
              "source                      0\n",
              "dtype: int64"
            ]
          },
          "metadata": {
            "tags": []
          },
          "execution_count": 304
        }
      ]
    },
    {
      "cell_type": "code",
      "metadata": {
        "colab": {
          "base_uri": "https://localhost:8080/"
        },
        "id": "uEtcr6c0j8q2",
        "outputId": "bc01d9a9-dddc-4d93-835e-2c690943edcb"
      },
      "source": [
        "df.department.value_counts()"
      ],
      "execution_count": 305,
      "outputs": [
        {
          "output_type": "execute_result",
          "data": {
            "text/plain": [
              "Sales & Marketing    24155\n",
              "Operations           16112\n",
              "Procurement          10158\n",
              "Technology           10149\n",
              "Analytics             7671\n",
              "Finance               3627\n",
              "HR                    3503\n",
              "Legal                 1484\n",
              "R&D                   1439\n",
              "Name: department, dtype: int64"
            ]
          },
          "metadata": {
            "tags": []
          },
          "execution_count": 305
        }
      ]
    },
    {
      "cell_type": "code",
      "metadata": {
        "colab": {
          "base_uri": "https://localhost:8080/"
        },
        "id": "QIG4W1nBkTLM",
        "outputId": "ecacf897-9eba-42c1-9c3c-620045d3aaf9"
      },
      "source": [
        "df.region.value_counts()"
      ],
      "execution_count": 306,
      "outputs": [
        {
          "output_type": "execute_result",
          "data": {
            "text/plain": [
              "region_2     17642\n",
              "region_22     9167\n",
              "region_7      6825\n",
              "region_15     3938\n",
              "region_13     3815\n",
              "region_26     3271\n",
              "region_31     2779\n",
              "region_4      2478\n",
              "region_27     2369\n",
              "region_16     2055\n",
              "region_28     1913\n",
              "region_11     1886\n",
              "region_23     1691\n",
              "region_29     1408\n",
              "region_32     1378\n",
              "region_19     1284\n",
              "region_14     1177\n",
              "region_20     1176\n",
              "region_17     1157\n",
              "region_25     1156\n",
              "region_5      1108\n",
              "region_6       988\n",
              "region_30      930\n",
              "region_8       924\n",
              "region_10      917\n",
              "region_1       848\n",
              "region_24      727\n",
              "region_12      715\n",
              "region_9       600\n",
              "region_21      590\n",
              "region_3       493\n",
              "region_34      447\n",
              "region_33      395\n",
              "region_18       51\n",
              "Name: region, dtype: int64"
            ]
          },
          "metadata": {
            "tags": []
          },
          "execution_count": 306
        }
      ]
    },
    {
      "cell_type": "code",
      "metadata": {
        "colab": {
          "base_uri": "https://localhost:8080/"
        },
        "id": "tfCkwXjokk5N",
        "outputId": "3804646c-b479-4a04-e067-af9a64f4bbbe"
      },
      "source": [
        "df.education.value_counts()"
      ],
      "execution_count": 307,
      "outputs": [
        {
          "output_type": "execute_result",
          "data": {
            "text/plain": [
              "Bachelor's          52247\n",
              "Master's & above    21429\n",
              "Below Secondary      1179\n",
              "Name: education, dtype: int64"
            ]
          },
          "metadata": {
            "tags": []
          },
          "execution_count": 307
        }
      ]
    },
    {
      "cell_type": "code",
      "metadata": {
        "colab": {
          "base_uri": "https://localhost:8080/"
        },
        "id": "Rv-csJ7pk1Nu",
        "outputId": "c2c44a00-7daa-4d85-e945-9b2e43600a23"
      },
      "source": [
        "df.gender.value_counts()"
      ],
      "execution_count": 308,
      "outputs": [
        {
          "output_type": "execute_result",
          "data": {
            "text/plain": [
              "m    55092\n",
              "f    23206\n",
              "Name: gender, dtype: int64"
            ]
          },
          "metadata": {
            "tags": []
          },
          "execution_count": 308
        }
      ]
    },
    {
      "cell_type": "code",
      "metadata": {
        "colab": {
          "base_uri": "https://localhost:8080/"
        },
        "id": "gRmoXVMdlJuN",
        "outputId": "2a3c3b90-1aef-494d-fbb8-80b722275c6e"
      },
      "source": [
        "df.recruitment_channel.value_counts()"
      ],
      "execution_count": 309,
      "outputs": [
        {
          "output_type": "execute_result",
          "data": {
            "text/plain": [
              "other       43524\n",
              "sourcing    33181\n",
              "referred     1593\n",
              "Name: recruitment_channel, dtype: int64"
            ]
          },
          "metadata": {
            "tags": []
          },
          "execution_count": 309
        }
      ]
    },
    {
      "cell_type": "code",
      "metadata": {
        "colab": {
          "base_uri": "https://localhost:8080/"
        },
        "id": "y_ahtKqAlR3G",
        "outputId": "83693a35-8bac-41ac-ebcc-ff60e589d366"
      },
      "source": [
        "df.recruitment_channel.value_counts()"
      ],
      "execution_count": 310,
      "outputs": [
        {
          "output_type": "execute_result",
          "data": {
            "text/plain": [
              "other       43524\n",
              "sourcing    33181\n",
              "referred     1593\n",
              "Name: recruitment_channel, dtype: int64"
            ]
          },
          "metadata": {
            "tags": []
          },
          "execution_count": 310
        }
      ]
    },
    {
      "cell_type": "code",
      "metadata": {
        "id": "UMxlhtQsmbki",
        "colab": {
          "base_uri": "https://localhost:8080/"
        },
        "outputId": "056ff45e-d91f-460f-b388-d457d477c7cb"
      },
      "source": [
        "df.no_of_trainings.value_counts()"
      ],
      "execution_count": 311,
      "outputs": [
        {
          "output_type": "execute_result",
          "data": {
            "text/plain": [
              "1     63306\n",
              "2     11531\n",
              "3      2531\n",
              "4       658\n",
              "5       164\n",
              "6        68\n",
              "7        21\n",
              "9         7\n",
              "8         7\n",
              "10        5\n",
              "Name: no_of_trainings, dtype: int64"
            ]
          },
          "metadata": {
            "tags": []
          },
          "execution_count": 311
        }
      ]
    },
    {
      "cell_type": "code",
      "metadata": {
        "colab": {
          "base_uri": "https://localhost:8080/"
        },
        "id": "2BXum7OIP0D-",
        "outputId": "acf79ccb-14e2-4158-821b-011a6d84c82b"
      },
      "source": [
        "df.age.value_counts()"
      ],
      "execution_count": 312,
      "outputs": [
        {
          "output_type": "execute_result",
          "data": {
            "text/plain": [
              "30    5260\n",
              "31    5060\n",
              "32    5015\n",
              "29    4861\n",
              "33    4597\n",
              "28    4509\n",
              "34    4397\n",
              "27    4061\n",
              "35    3880\n",
              "36    3539\n",
              "37    3064\n",
              "26    2917\n",
              "38    2785\n",
              "39    2446\n",
              "40    2338\n",
              "25    1885\n",
              "41    1874\n",
              "42    1624\n",
              "43    1427\n",
              "44    1203\n",
              "24    1181\n",
              "45    1063\n",
              "46     974\n",
              "47     813\n",
              "48     777\n",
              "50     726\n",
              "49     650\n",
              "23     642\n",
              "51     550\n",
              "52     518\n",
              "53     518\n",
              "54     452\n",
              "55     429\n",
              "56     385\n",
              "57     333\n",
              "22     329\n",
              "58     317\n",
              "60     306\n",
              "59     292\n",
              "20     164\n",
              "21     137\n",
              "Name: age, dtype: int64"
            ]
          },
          "metadata": {
            "tags": []
          },
          "execution_count": 312
        }
      ]
    },
    {
      "cell_type": "code",
      "metadata": {
        "colab": {
          "base_uri": "https://localhost:8080/"
        },
        "id": "LyZJob3vQHht",
        "outputId": "d8bb0992-36ea-4de9-dcae-b60844db8f02"
      },
      "source": [
        "df.previous_year_rating.value_counts()"
      ],
      "execution_count": 313,
      "outputs": [
        {
          "output_type": "execute_result",
          "data": {
            "text/plain": [
              "3.0    26539\n",
              "5.0    16838\n",
              "4.0    14126\n",
              "1.0     8903\n",
              "2.0     5956\n",
              "Name: previous_year_rating, dtype: int64"
            ]
          },
          "metadata": {
            "tags": []
          },
          "execution_count": 313
        }
      ]
    },
    {
      "cell_type": "code",
      "metadata": {
        "colab": {
          "base_uri": "https://localhost:8080/"
        },
        "id": "0GB-2jqDQQEE",
        "outputId": "dceccbbe-1e03-4fdb-944c-2cbe45d0b185"
      },
      "source": [
        "df.length_of_service.value_counts()"
      ],
      "execution_count": 314,
      "outputs": [
        {
          "output_type": "execute_result",
          "data": {
            "text/plain": [
              "3     10066\n",
              "4      9747\n",
              "2      9554\n",
              "5      8424\n",
              "7      7895\n",
              "6      6772\n",
              "1      6539\n",
              "8      4146\n",
              "9      3699\n",
              "10     3134\n",
              "11     1268\n",
              "12     1122\n",
              "13      958\n",
              "15      833\n",
              "14      810\n",
              "16      760\n",
              "17      636\n",
              "18      558\n",
              "19      471\n",
              "20      190\n",
              "21      107\n",
              "23       96\n",
              "22       88\n",
              "24       88\n",
              "25       75\n",
              "26       55\n",
              "27       52\n",
              "28       42\n",
              "29       40\n",
              "31       27\n",
              "30       18\n",
              "32       11\n",
              "33       10\n",
              "34        6\n",
              "37        1\n",
              "Name: length_of_service, dtype: int64"
            ]
          },
          "metadata": {
            "tags": []
          },
          "execution_count": 314
        }
      ]
    },
    {
      "cell_type": "code",
      "metadata": {
        "colab": {
          "base_uri": "https://localhost:8080/"
        },
        "id": "wRqrVjS9QbMp",
        "outputId": "190776fe-a8e0-4010-8b0b-41292a4e5244"
      },
      "source": [
        "df.avg_training_score.value_counts()"
      ],
      "execution_count": 315,
      "outputs": [
        {
          "output_type": "execute_result",
          "data": {
            "text/plain": [
              "50    3943\n",
              "49    3825\n",
              "48    3521\n",
              "51    3370\n",
              "60    3044\n",
              "      ... \n",
              "98      51\n",
              "99      48\n",
              "41      37\n",
              "40       8\n",
              "39       3\n",
              "Name: avg_training_score, Length: 61, dtype: int64"
            ]
          },
          "metadata": {
            "tags": []
          },
          "execution_count": 315
        }
      ]
    },
    {
      "cell_type": "code",
      "metadata": {
        "colab": {
          "base_uri": "https://localhost:8080/"
        },
        "id": "JEg-2D5LQwUx",
        "outputId": "125494d6-79c9-4c80-d1f2-ddf1a062ef97"
      },
      "source": [
        "df.is_promoted.value_counts()"
      ],
      "execution_count": 316,
      "outputs": [
        {
          "output_type": "execute_result",
          "data": {
            "text/plain": [
              "0.0    50140\n",
              "1.0     4668\n",
              "Name: is_promoted, dtype: int64"
            ]
          },
          "metadata": {
            "tags": []
          },
          "execution_count": 316
        }
      ]
    },
    {
      "cell_type": "markdown",
      "metadata": {
        "id": "sVex7PHadRtH"
      },
      "source": [
        "# Data Wrangling"
      ]
    },
    {
      "cell_type": "code",
      "metadata": {
        "colab": {
          "base_uri": "https://localhost:8080/"
        },
        "id": "8Ax3e9dAdUHR",
        "outputId": "041f7dc5-9014-4aee-cd3e-7618ec83168d"
      },
      "source": [
        "df.isna().sum()"
      ],
      "execution_count": 317,
      "outputs": [
        {
          "output_type": "execute_result",
          "data": {
            "text/plain": [
              "employee_id                 0\n",
              "department                  0\n",
              "region                      0\n",
              "education                3443\n",
              "gender                      0\n",
              "recruitment_channel         0\n",
              "no_of_trainings             0\n",
              "age                         0\n",
              "previous_year_rating     5936\n",
              "length_of_service           0\n",
              "KPIs_met >80%               0\n",
              "awards_won?                 0\n",
              "avg_training_score          0\n",
              "is_promoted             23490\n",
              "source                      0\n",
              "dtype: int64"
            ]
          },
          "metadata": {
            "tags": []
          },
          "execution_count": 317
        }
      ]
    },
    {
      "cell_type": "code",
      "metadata": {
        "id": "p5m9EDXndZuy"
      },
      "source": [
        "df.education.fillna(df.education.mode()[0], inplace=True)"
      ],
      "execution_count": 318,
      "outputs": []
    },
    {
      "cell_type": "code",
      "metadata": {
        "id": "pKXc80ZQdo3R"
      },
      "source": [
        "df.previous_year_rating.fillna(df.previous_year_rating.mean(), inplace=True)"
      ],
      "execution_count": 319,
      "outputs": []
    },
    {
      "cell_type": "markdown",
      "metadata": {
        "id": "OowbZZxBC4Q1"
      },
      "source": [
        "# Exploratory Data Analysis"
      ]
    },
    {
      "cell_type": "code",
      "metadata": {
        "id": "RbiSeAmkB7_Z"
      },
      "source": [
        "# Data Visualization Libraries \r\n",
        "import matplotlib.pyplot as plt\r\n",
        "import seaborn as sns\r\n",
        "import plotly.io as pio\r\n",
        "import plotly.graph_objects as go\r\n",
        "import plotly.express as px"
      ],
      "execution_count": 320,
      "outputs": []
    },
    {
      "cell_type": "code",
      "metadata": {
        "colab": {
          "base_uri": "https://localhost:8080/",
          "height": 598
        },
        "id": "x189PWGeDObk",
        "outputId": "55c3c1d9-1f27-4dc7-ef3a-88f8e6c9aef9"
      },
      "source": [
        "sns.heatmap(df.corr())"
      ],
      "execution_count": 321,
      "outputs": [
        {
          "output_type": "execute_result",
          "data": {
            "text/plain": [
              "<matplotlib.axes._subplots.AxesSubplot at 0x7f72d83fb4a8>"
            ]
          },
          "metadata": {
            "tags": []
          },
          "execution_count": 321
        },
        {
          "output_type": "display_data",
          "data": {
            "image/png": "[encoded data removed]",
            "text/plain": [
              "<Figure size 1080x576 with 2 Axes>"
            ]
          },
          "metadata": {
            "tags": [],
            "needs_background": "light"
          }
        }
      ]
    },
    {
      "cell_type": "code",
      "metadata": {
        "colab": {
          "base_uri": "https://localhost:8080/"
        },
        "id": "3IlmJuLPDVzP",
        "outputId": "4fea1f62-2244-4ac1-e953-2c5e830055c4"
      },
      "source": [
        "df.columns"
      ],
      "execution_count": 322,
      "outputs": [
        {
          "output_type": "execute_result",
          "data": {
            "text/plain": [
              "Index(['employee_id', 'department', 'region', 'education', 'gender',\n",
              "       'recruitment_channel', 'no_of_trainings', 'age', 'previous_year_rating',\n",
              "       'length_of_service', 'KPIs_met >80%', 'awards_won?',\n",
              "       'avg_training_score', 'is_promoted', 'source'],\n",
              "      dtype='object')"
            ]
          },
          "metadata": {
            "tags": []
          },
          "execution_count": 322
        }
      ]
    },
    {
      "cell_type": "code",
      "metadata": {
        "colab": {
          "base_uri": "https://localhost:8080/",
          "height": 282
        },
        "id": "hJtVIB96PmdU",
        "outputId": "0957526b-91ec-43ef-86df-278e3b025be5"
      },
      "source": [
        "df.head()"
      ],
      "execution_count": 323,
      "outputs": [
        {
          "output_type": "execute_result",
          "data": {
            "text/html": [
              "<div>\n",
              "<style scoped>\n",
              "    .dataframe tbody tr th:only-of-type {\n",
              "        vertical-align: middle;\n",
              "    }\n",
              "\n",
              "    .dataframe tbody tr th {\n",
              "        vertical-align: top;\n",
              "    }\n",
              "\n",
              "    .dataframe thead th {\n",
              "        text-align: right;\n",
              "    }\n",
              "</style>\n",
              "<table border=\"1\" class=\"dataframe\">\n",
              "  <thead>\n",
              "    <tr style=\"text-align: right;\">\n",
              "      <th></th>\n",
              "      <th>employee_id</th>\n",
              "      <th>department</th>\n",
              "      <th>region</th>\n",
              "      <th>education</th>\n",
              "      <th>gender</th>\n",
              "      <th>recruitment_channel</th>\n",
              "      <th>no_of_trainings</th>\n",
              "      <th>age</th>\n",
              "      <th>previous_year_rating</th>\n",
              "      <th>length_of_service</th>\n",
              "      <th>KPIs_met &gt;80%</th>\n",
              "      <th>awards_won?</th>\n",
              "      <th>avg_training_score</th>\n",
              "      <th>is_promoted</th>\n",
              "      <th>source</th>\n",
              "    </tr>\n",
              "  </thead>\n",
              "  <tbody>\n",
              "    <tr>\n",
              "      <th>0</th>\n",
              "      <td>65438</td>\n",
              "      <td>Sales &amp; Marketing</td>\n",
              "      <td>region_7</td>\n",
              "      <td>Master's &amp; above</td>\n",
              "      <td>f</td>\n",
              "      <td>sourcing</td>\n",
              "      <td>1</td>\n",
              "      <td>35</td>\n",
              "      <td>5.0</td>\n",
              "      <td>8</td>\n",
              "      <td>1</td>\n",
              "      <td>0</td>\n",
              "      <td>49</td>\n",
              "      <td>0.0</td>\n",
              "      <td>train</td>\n",
              "    </tr>\n",
              "    <tr>\n",
              "      <th>1</th>\n",
              "      <td>65141</td>\n",
              "      <td>Operations</td>\n",
              "      <td>region_22</td>\n",
              "      <td>Bachelor's</td>\n",
              "      <td>m</td>\n",
              "      <td>other</td>\n",
              "      <td>1</td>\n",
              "      <td>30</td>\n",
              "      <td>5.0</td>\n",
              "      <td>4</td>\n",
              "      <td>0</td>\n",
              "      <td>0</td>\n",
              "      <td>60</td>\n",
              "      <td>0.0</td>\n",
              "      <td>train</td>\n",
              "    </tr>\n",
              "    <tr>\n",
              "      <th>2</th>\n",
              "      <td>7513</td>\n",
              "      <td>Sales &amp; Marketing</td>\n",
              "      <td>region_19</td>\n",
              "      <td>Bachelor's</td>\n",
              "      <td>m</td>\n",
              "      <td>sourcing</td>\n",
              "      <td>1</td>\n",
              "      <td>34</td>\n",
              "      <td>3.0</td>\n",
              "      <td>7</td>\n",
              "      <td>0</td>\n",
              "      <td>0</td>\n",
              "      <td>50</td>\n",
              "      <td>0.0</td>\n",
              "      <td>train</td>\n",
              "    </tr>\n",
              "    <tr>\n",
              "      <th>3</th>\n",
              "      <td>2542</td>\n",
              "      <td>Sales &amp; Marketing</td>\n",
              "      <td>region_23</td>\n",
              "      <td>Bachelor's</td>\n",
              "      <td>m</td>\n",
              "      <td>other</td>\n",
              "      <td>2</td>\n",
              "      <td>39</td>\n",
              "      <td>1.0</td>\n",
              "      <td>10</td>\n",
              "      <td>0</td>\n",
              "      <td>0</td>\n",
              "      <td>50</td>\n",
              "      <td>0.0</td>\n",
              "      <td>train</td>\n",
              "    </tr>\n",
              "    <tr>\n",
              "      <th>4</th>\n",
              "      <td>48945</td>\n",
              "      <td>Technology</td>\n",
              "      <td>region_26</td>\n",
              "      <td>Bachelor's</td>\n",
              "      <td>m</td>\n",
              "      <td>other</td>\n",
              "      <td>1</td>\n",
              "      <td>45</td>\n",
              "      <td>3.0</td>\n",
              "      <td>2</td>\n",
              "      <td>0</td>\n",
              "      <td>0</td>\n",
              "      <td>73</td>\n",
              "      <td>0.0</td>\n",
              "      <td>train</td>\n",
              "    </tr>\n",
              "  </tbody>\n",
              "</table>\n",
              "</div>"
            ],
            "text/plain": [
              "   employee_id         department  ... is_promoted source\n",
              "0        65438  Sales & Marketing  ...         0.0  train\n",
              "1        65141         Operations  ...         0.0  train\n",
              "2         7513  Sales & Marketing  ...         0.0  train\n",
              "3         2542  Sales & Marketing  ...         0.0  train\n",
              "4        48945         Technology  ...         0.0  train\n",
              "\n",
              "[5 rows x 15 columns]"
            ]
          },
          "metadata": {
            "tags": []
          },
          "execution_count": 323
        }
      ]
    },
    {
      "cell_type": "code",
      "metadata": {
        "id": "0ykYVoi6MoxY",
        "colab": {
          "base_uri": "https://localhost:8080/",
          "height": 386
        },
        "outputId": "fc910a0e-228f-4c9e-eb93-e4c6dbd9f572"
      },
      "source": [
        "sns.displot(df.length_of_service)"
      ],
      "execution_count": 324,
      "outputs": [
        {
          "output_type": "execute_result",
          "data": {
            "text/plain": [
              "<seaborn.axisgrid.FacetGrid at 0x7f72d8395c50>"
            ]
          },
          "metadata": {
            "tags": []
          },
          "execution_count": 324
        },
        {
          "output_type": "display_data",
          "data": {
            "image/png": "[encoded data removed]",
            "text/plain": [
              "<Figure size 360x360 with 1 Axes>"
            ]
          },
          "metadata": {
            "tags": [],
            "needs_background": "light"
          }
        }
      ]
    },
    {
      "cell_type": "code",
      "metadata": {
        "colab": {
          "base_uri": "https://localhost:8080/",
          "height": 515
        },
        "id": "JbS2NjLwQDE-",
        "outputId": "a9454d38-7312-4e02-f11a-2589bc5e3f9b"
      },
      "source": [
        "sns.distplot(df.previous_year_rating)"
      ],
      "execution_count": 325,
      "outputs": [
        {
          "output_type": "execute_result",
          "data": {
            "text/plain": [
              "<matplotlib.axes._subplots.AxesSubplot at 0x7f72d80ad240>"
            ]
          },
          "metadata": {
            "tags": []
          },
          "execution_count": 325
        },
        {
          "output_type": "display_data",
          "data": {
            "image/png": "[encoded data removed]",
            "text/plain": [
              "<Figure size 1080x576 with 1 Axes>"
            ]
          },
          "metadata": {
            "tags": [],
            "needs_background": "light"
          }
        }
      ]
    },
    {
      "cell_type": "code",
      "metadata": {
        "colab": {
          "base_uri": "https://localhost:8080/",
          "height": 514
        },
        "id": "eYxH91M_Qk3G",
        "outputId": "dd086601-3aba-4959-b5ae-72e4de035082"
      },
      "source": [
        "sns.barplot(df.education, df.is_promoted)"
      ],
      "execution_count": 326,
      "outputs": [
        {
          "output_type": "execute_result",
          "data": {
            "text/plain": [
              "<matplotlib.axes._subplots.AxesSubplot at 0x7f72d7fffac8>"
            ]
          },
          "metadata": {
            "tags": []
          },
          "execution_count": 326
        },
        {
          "output_type": "display_data",
          "data": {
            "image/png": "[encoded data removed]",
            "text/plain": [
              "<Figure size 1080x576 with 1 Axes>"
            ]
          },
          "metadata": {
            "tags": [],
            "needs_background": "light"
          }
        }
      ]
    },
    {
      "cell_type": "code",
      "metadata": {
        "colab": {
          "base_uri": "https://localhost:8080/",
          "height": 514
        },
        "id": "snKclMf8S5Jq",
        "outputId": "eb74729a-b295-4937-ef00-be820a615126"
      },
      "source": [
        "sns.barplot(df.gender, df.is_promoted)"
      ],
      "execution_count": 327,
      "outputs": [
        {
          "output_type": "execute_result",
          "data": {
            "text/plain": [
              "<matplotlib.axes._subplots.AxesSubplot at 0x7f72d7f5d320>"
            ]
          },
          "metadata": {
            "tags": []
          },
          "execution_count": 327
        },
        {
          "output_type": "display_data",
          "data": {
            "image/png": "[encoded data removed]",
            "text/plain": [
              "<Figure size 1080x576 with 1 Axes>"
            ]
          },
          "metadata": {
            "tags": [],
            "needs_background": "light"
          }
        }
      ]
    },
    {
      "cell_type": "code",
      "metadata": {
        "colab": {
          "base_uri": "https://localhost:8080/",
          "height": 516
        },
        "id": "zxnBR2rcTEV_",
        "outputId": "b955d38c-ed0c-4306-eadb-2882b2ef20f6"
      },
      "source": [
        "fig_dims = (15, 8)\r\n",
        "fig, ax = plt.subplots(figsize=fig_dims)\r\n",
        "sns.barplot(df.department, df.is_promoted)"
      ],
      "execution_count": 328,
      "outputs": [
        {
          "output_type": "execute_result",
          "data": {
            "text/plain": [
              "<matplotlib.axes._subplots.AxesSubplot at 0x7f72d7f67320>"
            ]
          },
          "metadata": {
            "tags": []
          },
          "execution_count": 328
        },
        {
          "output_type": "display_data",
          "data": {
            "image/png": "[encoded data removed]",
            "text/plain": [
              "<Figure size 1080x576 with 1 Axes>"
            ]
          },
          "metadata": {
            "tags": [],
            "needs_background": "light"
          }
        }
      ]
    },
    {
      "cell_type": "code",
      "metadata": {
        "colab": {
          "base_uri": "https://localhost:8080/",
          "height": 622
        },
        "id": "6AHhiq5WTM1u",
        "outputId": "23955419-064c-439e-d74d-cc6236131a6e"
      },
      "source": [
        "fig_dims = (20, 10)\r\n",
        "fig, ax = plt.subplots(figsize=fig_dims)\r\n",
        "sns.countplot(df.region)\r\n",
        "plt.xticks(rotation = 60)\r\n",
        "plt.show()"
      ],
      "execution_count": 329,
      "outputs": [
        {
          "output_type": "display_data",
          "data": {
            "image/png": "[encoded data removed]",
            "text/plain": [
              "<Figure size 1440x720 with 1 Axes>"
            ]
          },
          "metadata": {
            "tags": [],
            "needs_background": "light"
          }
        }
      ]
    },
    {
      "cell_type": "code",
      "metadata": {
        "colab": {
          "base_uri": "https://localhost:8080/",
          "height": 515
        },
        "id": "zZfhLRgFVpvw",
        "outputId": "9c450a11-989a-4d31-cfe1-24d4fdda61bf"
      },
      "source": [
        "sns.barplot(df.recruitment_channel, df.is_promoted)"
      ],
      "execution_count": 330,
      "outputs": [
        {
          "output_type": "execute_result",
          "data": {
            "text/plain": [
              "<matplotlib.axes._subplots.AxesSubplot at 0x7f72d7e7c9e8>"
            ]
          },
          "metadata": {
            "tags": []
          },
          "execution_count": 330
        },
        {
          "output_type": "display_data",
          "data": {
            "image/png": "[encoded data removed]",
            "text/plain": [
              "<Figure size 1080x576 with 1 Axes>"
            ]
          },
          "metadata": {
            "tags": [],
            "needs_background": "light"
          }
        }
      ]
    },
    {
      "cell_type": "code",
      "metadata": {
        "colab": {
          "base_uri": "https://localhost:8080/",
          "height": 515
        },
        "id": "6PUbFB-Ab2_y",
        "outputId": "324a0a4c-b8b3-4ab6-ba01-6fa14e99e141"
      },
      "source": [
        "plt.rcParams['figure.figsize'] = (15, 8)\r\n",
        "sns.distplot(df.avg_training_score)"
      ],
      "execution_count": 331,
      "outputs": [
        {
          "output_type": "execute_result",
          "data": {
            "text/plain": [
              "<matplotlib.axes._subplots.AxesSubplot at 0x7f72d8248ba8>"
            ]
          },
          "metadata": {
            "tags": []
          },
          "execution_count": 331
        },
        {
          "output_type": "display_data",
          "data": {
            "image/png": "[encoded data removed]",
            "text/plain": [
              "<Figure size 1080x576 with 1 Axes>"
            ]
          },
          "metadata": {
            "tags": [],
            "needs_background": "light"
          }
        }
      ]
    },
    {
      "cell_type": "code",
      "metadata": {
        "colab": {
          "base_uri": "https://localhost:8080/",
          "height": 514
        },
        "id": "ZqnYmCG9ccPx",
        "outputId": "cf1112f9-e4ed-4600-fa38-f363082a0de2"
      },
      "source": [
        "sns.distplot(df.age)"
      ],
      "execution_count": 332,
      "outputs": [
        {
          "output_type": "execute_result",
          "data": {
            "text/plain": [
              "<matplotlib.axes._subplots.AxesSubplot at 0x7f72e01b4978>"
            ]
          },
          "metadata": {
            "tags": []
          },
          "execution_count": 332
        },
        {
          "output_type": "display_data",
          "data": {
            "image/png": "[encoded data removed]",
            "text/plain": [
              "<Figure size 1080x576 with 1 Axes>"
            ]
          },
          "metadata": {
            "tags": [],
            "needs_background": "light"
          }
        }
      ]
    },
    {
      "cell_type": "markdown",
      "metadata": {
        "id": "Ietn675gDHAi"
      },
      "source": [
        "# Data Encoding"
      ]
    },
    {
      "cell_type": "code",
      "metadata": {
        "id": "B0oJrg7RHjb-"
      },
      "source": [
        "from sklearn.preprocessing import LabelEncoder\r\n",
        "category=[\"department\", \"region\", \"education\", \"gender\", \"recruitment_channel\"]\r\n",
        "le=LabelEncoder()\r\n",
        "for i in category:\r\n",
        "  df[i]=le.fit_transform(df[i])"
      ],
      "execution_count": 333,
      "outputs": []
    },
    {
      "cell_type": "code",
      "metadata": {
        "colab": {
          "base_uri": "https://localhost:8080/",
          "height": 232
        },
        "id": "CI-Qzni_JD9G",
        "outputId": "f8ecc3a1-f254-423b-966d-61fae91a0dd5"
      },
      "source": [
        "df.head()"
      ],
      "execution_count": 334,
      "outputs": [
        {
          "output_type": "execute_result",
          "data": {
            "text/html": [
              "<div>\n",
              "<style scoped>\n",
              "    .dataframe tbody tr th:only-of-type {\n",
              "        vertical-align: middle;\n",
              "    }\n",
              "\n",
              "    .dataframe tbody tr th {\n",
              "        vertical-align: top;\n",
              "    }\n",
              "\n",
              "    .dataframe thead th {\n",
              "        text-align: right;\n",
              "    }\n",
              "</style>\n",
              "<table border=\"1\" class=\"dataframe\">\n",
              "  <thead>\n",
              "    <tr style=\"text-align: right;\">\n",
              "      <th></th>\n",
              "      <th>employee_id</th>\n",
              "      <th>department</th>\n",
              "      <th>region</th>\n",
              "      <th>education</th>\n",
              "      <th>gender</th>\n",
              "      <th>recruitment_channel</th>\n",
              "      <th>no_of_trainings</th>\n",
              "      <th>age</th>\n",
              "      <th>previous_year_rating</th>\n",
              "      <th>length_of_service</th>\n",
              "      <th>KPIs_met &gt;80%</th>\n",
              "      <th>awards_won?</th>\n",
              "      <th>avg_training_score</th>\n",
              "      <th>is_promoted</th>\n",
              "      <th>source</th>\n",
              "    </tr>\n",
              "  </thead>\n",
              "  <tbody>\n",
              "    <tr>\n",
              "      <th>0</th>\n",
              "      <td>65438</td>\n",
              "      <td>7</td>\n",
              "      <td>31</td>\n",
              "      <td>2</td>\n",
              "      <td>0</td>\n",
              "      <td>2</td>\n",
              "      <td>1</td>\n",
              "      <td>35</td>\n",
              "      <td>5.0</td>\n",
              "      <td>8</td>\n",
              "      <td>1</td>\n",
              "      <td>0</td>\n",
              "      <td>49</td>\n",
              "      <td>0.0</td>\n",
              "      <td>train</td>\n",
              "    </tr>\n",
              "    <tr>\n",
              "      <th>1</th>\n",
              "      <td>65141</td>\n",
              "      <td>4</td>\n",
              "      <td>14</td>\n",
              "      <td>0</td>\n",
              "      <td>1</td>\n",
              "      <td>0</td>\n",
              "      <td>1</td>\n",
              "      <td>30</td>\n",
              "      <td>5.0</td>\n",
              "      <td>4</td>\n",
              "      <td>0</td>\n",
              "      <td>0</td>\n",
              "      <td>60</td>\n",
              "      <td>0.0</td>\n",
              "      <td>train</td>\n",
              "    </tr>\n",
              "    <tr>\n",
              "      <th>2</th>\n",
              "      <td>7513</td>\n",
              "      <td>7</td>\n",
              "      <td>10</td>\n",
              "      <td>0</td>\n",
              "      <td>1</td>\n",
              "      <td>2</td>\n",
              "      <td>1</td>\n",
              "      <td>34</td>\n",
              "      <td>3.0</td>\n",
              "      <td>7</td>\n",
              "      <td>0</td>\n",
              "      <td>0</td>\n",
              "      <td>50</td>\n",
              "      <td>0.0</td>\n",
              "      <td>train</td>\n",
              "    </tr>\n",
              "    <tr>\n",
              "      <th>3</th>\n",
              "      <td>2542</td>\n",
              "      <td>7</td>\n",
              "      <td>15</td>\n",
              "      <td>0</td>\n",
              "      <td>1</td>\n",
              "      <td>0</td>\n",
              "      <td>2</td>\n",
              "      <td>39</td>\n",
              "      <td>1.0</td>\n",
              "      <td>10</td>\n",
              "      <td>0</td>\n",
              "      <td>0</td>\n",
              "      <td>50</td>\n",
              "      <td>0.0</td>\n",
              "      <td>train</td>\n",
              "    </tr>\n",
              "    <tr>\n",
              "      <th>4</th>\n",
              "      <td>48945</td>\n",
              "      <td>8</td>\n",
              "      <td>18</td>\n",
              "      <td>0</td>\n",
              "      <td>1</td>\n",
              "      <td>0</td>\n",
              "      <td>1</td>\n",
              "      <td>45</td>\n",
              "      <td>3.0</td>\n",
              "      <td>2</td>\n",
              "      <td>0</td>\n",
              "      <td>0</td>\n",
              "      <td>73</td>\n",
              "      <td>0.0</td>\n",
              "      <td>train</td>\n",
              "    </tr>\n",
              "  </tbody>\n",
              "</table>\n",
              "</div>"
            ],
            "text/plain": [
              "   employee_id  department  region  ...  avg_training_score  is_promoted  source\n",
              "0        65438           7      31  ...                  49          0.0   train\n",
              "1        65141           4      14  ...                  60          0.0   train\n",
              "2         7513           7      10  ...                  50          0.0   train\n",
              "3         2542           7      15  ...                  50          0.0   train\n",
              "4        48945           8      18  ...                  73          0.0   train\n",
              "\n",
              "[5 rows x 15 columns]"
            ]
          },
          "metadata": {
            "tags": []
          },
          "execution_count": 334
        }
      ]
    },
    {
      "cell_type": "code",
      "metadata": {
        "id": "GWEIR8V1NrYm"
      },
      "source": [
        "train_data1=df.loc[df[\"source\"]==\"train\"]\r\n",
        "test_data1=df.loc[df[\"source\"]==\"test\"]"
      ],
      "execution_count": 335,
      "outputs": []
    },
    {
      "cell_type": "code",
      "metadata": {
        "colab": {
          "base_uri": "https://localhost:8080/"
        },
        "id": "tw-RL79iOCT0",
        "outputId": "8b76f0dc-5017-46e7-f492-dc88d253af59"
      },
      "source": [
        "train_data1.shape, test_data1.shape"
      ],
      "execution_count": 336,
      "outputs": [
        {
          "output_type": "execute_result",
          "data": {
            "text/plain": [
              "((54808, 15), (23490, 15))"
            ]
          },
          "metadata": {
            "tags": []
          },
          "execution_count": 336
        }
      ]
    },
    {
      "cell_type": "code",
      "metadata": {
        "colab": {
          "base_uri": "https://localhost:8080/",
          "height": 232
        },
        "id": "njdTXzuJOUoW",
        "outputId": "15d57b7e-3a62-4179-f207-20396e41afb4"
      },
      "source": [
        "train_data1.head()"
      ],
      "execution_count": 337,
      "outputs": [
        {
          "output_type": "execute_result",
          "data": {
            "text/html": [
              "<div>\n",
              "<style scoped>\n",
              "    .dataframe tbody tr th:only-of-type {\n",
              "        vertical-align: middle;\n",
              "    }\n",
              "\n",
              "    .dataframe tbody tr th {\n",
              "        vertical-align: top;\n",
              "    }\n",
              "\n",
              "    .dataframe thead th {\n",
              "        text-align: right;\n",
              "    }\n",
              "</style>\n",
              "<table border=\"1\" class=\"dataframe\">\n",
              "  <thead>\n",
              "    <tr style=\"text-align: right;\">\n",
              "      <th></th>\n",
              "      <th>employee_id</th>\n",
              "      <th>department</th>\n",
              "      <th>region</th>\n",
              "      <th>education</th>\n",
              "      <th>gender</th>\n",
              "      <th>recruitment_channel</th>\n",
              "      <th>no_of_trainings</th>\n",
              "      <th>age</th>\n",
              "      <th>previous_year_rating</th>\n",
              "      <th>length_of_service</th>\n",
              "      <th>KPIs_met &gt;80%</th>\n",
              "      <th>awards_won?</th>\n",
              "      <th>avg_training_score</th>\n",
              "      <th>is_promoted</th>\n",
              "      <th>source</th>\n",
              "    </tr>\n",
              "  </thead>\n",
              "  <tbody>\n",
              "    <tr>\n",
              "      <th>0</th>\n",
              "      <td>65438</td>\n",
              "      <td>7</td>\n",
              "      <td>31</td>\n",
              "      <td>2</td>\n",
              "      <td>0</td>\n",
              "      <td>2</td>\n",
              "      <td>1</td>\n",
              "      <td>35</td>\n",
              "      <td>5.0</td>\n",
              "      <td>8</td>\n",
              "      <td>1</td>\n",
              "      <td>0</td>\n",
              "      <td>49</td>\n",
              "      <td>0.0</td>\n",
              "      <td>train</td>\n",
              "    </tr>\n",
              "    <tr>\n",
              "      <th>1</th>\n",
              "      <td>65141</td>\n",
              "      <td>4</td>\n",
              "      <td>14</td>\n",
              "      <td>0</td>\n",
              "      <td>1</td>\n",
              "      <td>0</td>\n",
              "      <td>1</td>\n",
              "      <td>30</td>\n",
              "      <td>5.0</td>\n",
              "      <td>4</td>\n",
              "      <td>0</td>\n",
              "      <td>0</td>\n",
              "      <td>60</td>\n",
              "      <td>0.0</td>\n",
              "      <td>train</td>\n",
              "    </tr>\n",
              "    <tr>\n",
              "      <th>2</th>\n",
              "      <td>7513</td>\n",
              "      <td>7</td>\n",
              "      <td>10</td>\n",
              "      <td>0</td>\n",
              "      <td>1</td>\n",
              "      <td>2</td>\n",
              "      <td>1</td>\n",
              "      <td>34</td>\n",
              "      <td>3.0</td>\n",
              "      <td>7</td>\n",
              "      <td>0</td>\n",
              "      <td>0</td>\n",
              "      <td>50</td>\n",
              "      <td>0.0</td>\n",
              "      <td>train</td>\n",
              "    </tr>\n",
              "    <tr>\n",
              "      <th>3</th>\n",
              "      <td>2542</td>\n",
              "      <td>7</td>\n",
              "      <td>15</td>\n",
              "      <td>0</td>\n",
              "      <td>1</td>\n",
              "      <td>0</td>\n",
              "      <td>2</td>\n",
              "      <td>39</td>\n",
              "      <td>1.0</td>\n",
              "      <td>10</td>\n",
              "      <td>0</td>\n",
              "      <td>0</td>\n",
              "      <td>50</td>\n",
              "      <td>0.0</td>\n",
              "      <td>train</td>\n",
              "    </tr>\n",
              "    <tr>\n",
              "      <th>4</th>\n",
              "      <td>48945</td>\n",
              "      <td>8</td>\n",
              "      <td>18</td>\n",
              "      <td>0</td>\n",
              "      <td>1</td>\n",
              "      <td>0</td>\n",
              "      <td>1</td>\n",
              "      <td>45</td>\n",
              "      <td>3.0</td>\n",
              "      <td>2</td>\n",
              "      <td>0</td>\n",
              "      <td>0</td>\n",
              "      <td>73</td>\n",
              "      <td>0.0</td>\n",
              "      <td>train</td>\n",
              "    </tr>\n",
              "  </tbody>\n",
              "</table>\n",
              "</div>"
            ],
            "text/plain": [
              "   employee_id  department  region  ...  avg_training_score  is_promoted  source\n",
              "0        65438           7      31  ...                  49          0.0   train\n",
              "1        65141           4      14  ...                  60          0.0   train\n",
              "2         7513           7      10  ...                  50          0.0   train\n",
              "3         2542           7      15  ...                  50          0.0   train\n",
              "4        48945           8      18  ...                  73          0.0   train\n",
              "\n",
              "[5 rows x 15 columns]"
            ]
          },
          "metadata": {
            "tags": []
          },
          "execution_count": 337
        }
      ]
    },
    {
      "cell_type": "code",
      "metadata": {
        "id": "Nk9ysd3hPDMI"
      },
      "source": [
        "test_data1.drop([\"source\", \"is_promoted\"], axis=\"columns\", inplace=True)"
      ],
      "execution_count": 338,
      "outputs": []
    },
    {
      "cell_type": "code",
      "metadata": {
        "id": "TUMRhVbqOuUJ"
      },
      "source": [
        "train_data1.drop([\"source\"], axis=\"columns\", inplace=True)"
      ],
      "execution_count": 339,
      "outputs": []
    },
    {
      "cell_type": "markdown",
      "metadata": {
        "id": "prSzbBaTNaOX"
      },
      "source": [
        "# Split The Data"
      ]
    },
    {
      "cell_type": "code",
      "metadata": {
        "id": "gyRwuH7oSuo6"
      },
      "source": [
        "#Split Train Data into Features(Independent) & Target(Dependent)\r\n",
        "\r\n",
        "X_train= train_data1.drop(\"is_promoted\", axis=\"columns\")\r\n",
        "y_train= train_data1[\"is_promoted\"]\r\n",
        "y_train = y_train.to_frame()\r\n",
        "X_test = test_data1"
      ],
      "execution_count": 340,
      "outputs": []
    },
    {
      "cell_type": "markdown",
      "metadata": {
        "id": "wklO4DG8NlpX"
      },
      "source": [
        "# Data Scaling"
      ]
    },
    {
      "cell_type": "code",
      "metadata": {
        "colab": {
          "base_uri": "https://localhost:8080/",
          "height": 511
        },
        "id": "z4UT7mAA9nnS",
        "outputId": "b53cd8ed-99ec-4376-e672-9729d3ed5be6"
      },
      "source": [
        "# Data Scaling : RobustScaler, StandardScaler, MinMaxScaler, MaxAbsScaler\r\n",
        "\r\n",
        "from sklearn.preprocessing            import StandardScaler, MinMaxScaler, RobustScaler, MaxAbsScaler\r\n",
        "def data_scaling( scaling_strategy , scaling_data , scaling_columns ):\r\n",
        "    if    scaling_strategy ==\"RobustScaler\" :\r\n",
        "        scaling_data[scaling_columns] = RobustScaler().fit_transform(scaling_data[scaling_columns])\r\n",
        "    elif  scaling_strategy ==\"StandardScaler\" :\r\n",
        "        scaling_data[scaling_columns] = StandardScaler().fit_transform(scaling_data[scaling_columns])\r\n",
        "    elif  scaling_strategy ==\"MinMaxScaler\" :\r\n",
        "        scaling_data[scaling_columns] = MinMaxScaler().fit_transform(scaling_data[scaling_columns])\r\n",
        "    elif  scaling_strategy ==\"MaxAbsScaler\" :\r\n",
        "        scaling_data[scaling_columns] = MaxAbsScaler().fit_transform(scaling_data[scaling_columns])\r\n",
        "    else :  # If any other scaling send by mistake still perform Robust Scalar\r\n",
        "        scaling_data[scaling_columns] = RobustScaler().fit_transform(scaling_data[scaling_columns])\r\n",
        "    return scaling_data\r\n",
        "# RobustScaler is better in handling Outliers :\r\n",
        "scaling_strategy = [\"RobustScaler\", \"StandardScaler\",\"MinMaxScaler\",\"MaxAbsScaler\"]\r\n",
        "X_train_scale = data_scaling( scaling_strategy[0] , X_train, X_train.columns )\r\n",
        "X_test_scale  = data_scaling( scaling_strategy [0] , X_test, X_test.columns )\r\n",
        "# Display Scaled Train and Test Features :\r\n",
        "display(X_train_scale.head())\r\n",
        "display(X_train_scale.columns)\r\n",
        "display(X_train_scale.head())"
      ],
      "execution_count": 341,
      "outputs": [
        {
          "output_type": "display_data",
          "data": {
            "text/html": [
              "<div>\n",
              "<style scoped>\n",
              "    .dataframe tbody tr th:only-of-type {\n",
              "        vertical-align: middle;\n",
              "    }\n",
              "\n",
              "    .dataframe tbody tr th {\n",
              "        vertical-align: top;\n",
              "    }\n",
              "\n",
              "    .dataframe thead th {\n",
              "        text-align: right;\n",
              "    }\n",
              "</style>\n",
              "<table border=\"1\" class=\"dataframe\">\n",
              "  <thead>\n",
              "    <tr style=\"text-align: right;\">\n",
              "      <th></th>\n",
              "      <th>employee_id</th>\n",
              "      <th>department</th>\n",
              "      <th>region</th>\n",
              "      <th>education</th>\n",
              "      <th>gender</th>\n",
              "      <th>recruitment_channel</th>\n",
              "      <th>no_of_trainings</th>\n",
              "      <th>age</th>\n",
              "      <th>previous_year_rating</th>\n",
              "      <th>length_of_service</th>\n",
              "      <th>KPIs_met &gt;80%</th>\n",
              "      <th>awards_won?</th>\n",
              "      <th>avg_training_score</th>\n",
              "    </tr>\n",
              "  </thead>\n",
              "  <tbody>\n",
              "    <tr>\n",
              "      <th>0</th>\n",
              "      <td>0.671070</td>\n",
              "      <td>0.666667</td>\n",
              "      <td>1.7</td>\n",
              "      <td>1.0</td>\n",
              "      <td>-1.0</td>\n",
              "      <td>1.0</td>\n",
              "      <td>0.0</td>\n",
              "      <td>0.2</td>\n",
              "      <td>2.0</td>\n",
              "      <td>0.75</td>\n",
              "      <td>1.0</td>\n",
              "      <td>0.0</td>\n",
              "      <td>-0.44</td>\n",
              "    </tr>\n",
              "    <tr>\n",
              "      <th>1</th>\n",
              "      <td>0.663467</td>\n",
              "      <td>-0.333333</td>\n",
              "      <td>0.0</td>\n",
              "      <td>0.0</td>\n",
              "      <td>0.0</td>\n",
              "      <td>0.0</td>\n",
              "      <td>0.0</td>\n",
              "      <td>-0.3</td>\n",
              "      <td>2.0</td>\n",
              "      <td>-0.25</td>\n",
              "      <td>0.0</td>\n",
              "      <td>0.0</td>\n",
              "      <td>0.00</td>\n",
              "    </tr>\n",
              "    <tr>\n",
              "      <th>2</th>\n",
              "      <td>-0.811876</td>\n",
              "      <td>0.666667</td>\n",
              "      <td>-0.4</td>\n",
              "      <td>0.0</td>\n",
              "      <td>0.0</td>\n",
              "      <td>1.0</td>\n",
              "      <td>0.0</td>\n",
              "      <td>0.1</td>\n",
              "      <td>0.0</td>\n",
              "      <td>0.50</td>\n",
              "      <td>0.0</td>\n",
              "      <td>0.0</td>\n",
              "      <td>-0.40</td>\n",
              "    </tr>\n",
              "    <tr>\n",
              "      <th>3</th>\n",
              "      <td>-0.939140</td>\n",
              "      <td>0.666667</td>\n",
              "      <td>0.1</td>\n",
              "      <td>0.0</td>\n",
              "      <td>0.0</td>\n",
              "      <td>0.0</td>\n",
              "      <td>1.0</td>\n",
              "      <td>0.6</td>\n",
              "      <td>-2.0</td>\n",
              "      <td>1.25</td>\n",
              "      <td>0.0</td>\n",
              "      <td>0.0</td>\n",
              "      <td>-0.40</td>\n",
              "    </tr>\n",
              "    <tr>\n",
              "      <th>4</th>\n",
              "      <td>0.248830</td>\n",
              "      <td>1.000000</td>\n",
              "      <td>0.4</td>\n",
              "      <td>0.0</td>\n",
              "      <td>0.0</td>\n",
              "      <td>0.0</td>\n",
              "      <td>0.0</td>\n",
              "      <td>1.2</td>\n",
              "      <td>0.0</td>\n",
              "      <td>-0.75</td>\n",
              "      <td>0.0</td>\n",
              "      <td>0.0</td>\n",
              "      <td>0.52</td>\n",
              "    </tr>\n",
              "  </tbody>\n",
              "</table>\n",
              "</div>"
            ],
            "text/plain": [
              "   employee_id  department  ...  awards_won?  avg_training_score\n",
              "0     0.671070    0.666667  ...          0.0               -0.44\n",
              "1     0.663467   -0.333333  ...          0.0                0.00\n",
              "2    -0.811876    0.666667  ...          0.0               -0.40\n",
              "3    -0.939140    0.666667  ...          0.0               -0.40\n",
              "4     0.248830    1.000000  ...          0.0                0.52\n",
              "\n",
              "[5 rows x 13 columns]"
            ]
          },
          "metadata": {
            "tags": []
          }
        },
        {
          "output_type": "display_data",
          "data": {
            "text/plain": [
              "Index(['employee_id', 'department', 'region', 'education', 'gender',\n",
              "       'recruitment_channel', 'no_of_trainings', 'age', 'previous_year_rating',\n",
              "       'length_of_service', 'KPIs_met >80%', 'awards_won?',\n",
              "       'avg_training_score'],\n",
              "      dtype='object')"
            ]
          },
          "metadata": {
            "tags": []
          }
        },
        {
          "output_type": "display_data",
          "data": {
            "text/html": [
              "<div>\n",
              "<style scoped>\n",
              "    .dataframe tbody tr th:only-of-type {\n",
              "        vertical-align: middle;\n",
              "    }\n",
              "\n",
              "    .dataframe tbody tr th {\n",
              "        vertical-align: top;\n",
              "    }\n",
              "\n",
              "    .dataframe thead th {\n",
              "        text-align: right;\n",
              "    }\n",
              "</style>\n",
              "<table border=\"1\" class=\"dataframe\">\n",
              "  <thead>\n",
              "    <tr style=\"text-align: right;\">\n",
              "      <th></th>\n",
              "      <th>employee_id</th>\n",
              "      <th>department</th>\n",
              "      <th>region</th>\n",
              "      <th>education</th>\n",
              "      <th>gender</th>\n",
              "      <th>recruitment_channel</th>\n",
              "      <th>no_of_trainings</th>\n",
              "      <th>age</th>\n",
              "      <th>previous_year_rating</th>\n",
              "      <th>length_of_service</th>\n",
              "      <th>KPIs_met &gt;80%</th>\n",
              "      <th>awards_won?</th>\n",
              "      <th>avg_training_score</th>\n",
              "    </tr>\n",
              "  </thead>\n",
              "  <tbody>\n",
              "    <tr>\n",
              "      <th>0</th>\n",
              "      <td>0.671070</td>\n",
              "      <td>0.666667</td>\n",
              "      <td>1.7</td>\n",
              "      <td>1.0</td>\n",
              "      <td>-1.0</td>\n",
              "      <td>1.0</td>\n",
              "      <td>0.0</td>\n",
              "      <td>0.2</td>\n",
              "      <td>2.0</td>\n",
              "      <td>0.75</td>\n",
              "      <td>1.0</td>\n",
              "      <td>0.0</td>\n",
              "      <td>-0.44</td>\n",
              "    </tr>\n",
              "    <tr>\n",
              "      <th>1</th>\n",
              "      <td>0.663467</td>\n",
              "      <td>-0.333333</td>\n",
              "      <td>0.0</td>\n",
              "      <td>0.0</td>\n",
              "      <td>0.0</td>\n",
              "      <td>0.0</td>\n",
              "      <td>0.0</td>\n",
              "      <td>-0.3</td>\n",
              "      <td>2.0</td>\n",
              "      <td>-0.25</td>\n",
              "      <td>0.0</td>\n",
              "      <td>0.0</td>\n",
              "      <td>0.00</td>\n",
              "    </tr>\n",
              "    <tr>\n",
              "      <th>2</th>\n",
              "      <td>-0.811876</td>\n",
              "      <td>0.666667</td>\n",
              "      <td>-0.4</td>\n",
              "      <td>0.0</td>\n",
              "      <td>0.0</td>\n",
              "      <td>1.0</td>\n",
              "      <td>0.0</td>\n",
              "      <td>0.1</td>\n",
              "      <td>0.0</td>\n",
              "      <td>0.50</td>\n",
              "      <td>0.0</td>\n",
              "      <td>0.0</td>\n",
              "      <td>-0.40</td>\n",
              "    </tr>\n",
              "    <tr>\n",
              "      <th>3</th>\n",
              "      <td>-0.939140</td>\n",
              "      <td>0.666667</td>\n",
              "      <td>0.1</td>\n",
              "      <td>0.0</td>\n",
              "      <td>0.0</td>\n",
              "      <td>0.0</td>\n",
              "      <td>1.0</td>\n",
              "      <td>0.6</td>\n",
              "      <td>-2.0</td>\n",
              "      <td>1.25</td>\n",
              "      <td>0.0</td>\n",
              "      <td>0.0</td>\n",
              "      <td>-0.40</td>\n",
              "    </tr>\n",
              "    <tr>\n",
              "      <th>4</th>\n",
              "      <td>0.248830</td>\n",
              "      <td>1.000000</td>\n",
              "      <td>0.4</td>\n",
              "      <td>0.0</td>\n",
              "      <td>0.0</td>\n",
              "      <td>0.0</td>\n",
              "      <td>0.0</td>\n",
              "      <td>1.2</td>\n",
              "      <td>0.0</td>\n",
              "      <td>-0.75</td>\n",
              "      <td>0.0</td>\n",
              "      <td>0.0</td>\n",
              "      <td>0.52</td>\n",
              "    </tr>\n",
              "  </tbody>\n",
              "</table>\n",
              "</div>"
            ],
            "text/plain": [
              "   employee_id  department  ...  awards_won?  avg_training_score\n",
              "0     0.671070    0.666667  ...          0.0               -0.44\n",
              "1     0.663467   -0.333333  ...          0.0                0.00\n",
              "2    -0.811876    0.666667  ...          0.0               -0.40\n",
              "3    -0.939140    0.666667  ...          0.0               -0.40\n",
              "4     0.248830    1.000000  ...          0.0                0.52\n",
              "\n",
              "[5 rows x 13 columns]"
            ]
          },
          "metadata": {
            "tags": []
          }
        }
      ]
    },
    {
      "cell_type": "markdown",
      "metadata": {
        "id": "LKW_eeVONwI_"
      },
      "source": [
        "# Baseline Machine Learning Model"
      ]
    },
    {
      "cell_type": "code",
      "metadata": {
        "id": "T9YyMMQUCSDW",
        "colab": {
          "base_uri": "https://localhost:8080/"
        },
        "outputId": "98b84d7b-77dd-46f2-93b9-a30cabcfa666"
      },
      "source": [
        "from sklearn.ensemble                 import VotingClassifier\r\n",
        "from sklearn.metrics                  import f1_score\r\n",
        "# Boosting Algorithms \r\n",
        "from xgboost                          import XGBClassifier\r\n",
        "!pip install catboost\r\n",
        "from catboost                         import CatBoostClassifier\r\n",
        "from lightgbm                         import LGBMClassifier\r\n"
      ],
      "execution_count": 342,
      "outputs": [
        {
          "output_type": "stream",
          "text": [
            "Requirement already satisfied: catboost in /usr/local/lib/python3.6/dist-packages (0.24.4)\n",
            "Requirement already satisfied: matplotlib in /usr/local/lib/python3.6/dist-packages (from catboost) (3.2.2)\n",
            "Requirement already satisfied: pandas>=0.24.0 in /usr/local/lib/python3.6/dist-packages (from catboost) (1.1.5)\n",
            "Requirement already satisfied: numpy>=1.16.0 in /usr/local/lib/python3.6/dist-packages (from catboost) (1.19.5)\n",
            "Requirement already satisfied: scipy in /usr/local/lib/python3.6/dist-packages (from catboost) (1.4.1)\n",
            "Requirement already satisfied: plotly in /usr/local/lib/python3.6/dist-packages (from catboost) (4.4.1)\n",
            "Requirement already satisfied: graphviz in /usr/local/lib/python3.6/dist-packages (from catboost) (0.10.1)\n",
            "Requirement already satisfied: six in /usr/local/lib/python3.6/dist-packages (from catboost) (1.15.0)\n",
            "Requirement already satisfied: kiwisolver>=1.0.1 in /usr/local/lib/python3.6/dist-packages (from matplotlib->catboost) (1.3.1)\n",
            "Requirement already satisfied: cycler>=0.10 in /usr/local/lib/python3.6/dist-packages (from matplotlib->catboost) (0.10.0)\n",
            "Requirement already satisfied: python-dateutil>=2.1 in /usr/local/lib/python3.6/dist-packages (from matplotlib->catboost) (2.8.1)\n",
            "Requirement already satisfied: pyparsing!=2.0.4,!=2.1.2,!=2.1.6,>=2.0.1 in /usr/local/lib/python3.6/dist-packages (from matplotlib->catboost) (2.4.7)\n",
            "Requirement already satisfied: pytz>=2017.2 in /usr/local/lib/python3.6/dist-packages (from pandas>=0.24.0->catboost) (2018.9)\n",
            "Requirement already satisfied: retrying>=1.3.3 in /usr/local/lib/python3.6/dist-packages (from plotly->catboost) (1.3.3)\n"
          ],
          "name": "stdout"
        }
      ]
    },
    {
      "cell_type": "code",
      "metadata": {
        "id": "Dj7ZUsdK2XK1"
      },
      "source": [
        "# Baseline Model Without Hyperparameters :\r\n",
        "Classifiers = {'0.XGBoost' : XGBClassifier(),\r\n",
        "               '1.CatBoost' : CatBoostClassifier(),\r\n",
        "               '2.LightGBM' : LGBMClassifier()\r\n",
        " }"
      ],
      "execution_count": 343,
      "outputs": []
    },
    {
      "cell_type": "code",
      "metadata": {
        "id": "nUwK-L0rCPlC"
      },
      "source": [
        "# Fine Tuned Model With-Hyperparameters :\r\n",
        "Classifiers = {'0.XGBoost' : XGBClassifier(learning_rate =0.1,\r\n",
        "                                           n_estimators=494,\r\n",
        "                                           max_depth=5,\r\n",
        "                                           subsample = 0.70,\r\n",
        "                                           verbosity = 0,\r\n",
        "                                           scale_pos_weight = 2.5,\r\n",
        "                                           updater =\"grow_histmaker\",\r\n",
        "                                           base_score  = 0.2),\r\n",
        "               '1.CatBoost' : CatBoostClassifier(learning_rate=0.15,\r\n",
        "                                                 n_estimators=494,\r\n",
        "                                                 subsample=0.085,\r\n",
        "                                                 max_depth=5,\r\n",
        "                                                 scale_pos_weight=2.5),\r\n",
        "               '2.LightGBM' : LGBMClassifier(subsample_freq = 2,\r\n",
        "                                             objective =\"binary\",\r\n",
        "                                             importance_type = \"gain\",\r\n",
        "                                             verbosity = -1,\r\n",
        "                                             max_bin = 60,\r\n",
        "                                             num_leaves = 300,\r\n",
        "                                             boosting_type = 'dart',\r\n",
        "                                             learning_rate=0.15,\r\n",
        "                                             n_estimators=494,\r\n",
        "                                             max_depth=5,\r\n",
        "                                             scale_pos_weight=2.5)\r\n",
        " }"
      ],
      "execution_count": 344,
      "outputs": []
    },
    {
      "cell_type": "markdown",
      "metadata": {
        "id": "KTBnWS1pN8mx"
      },
      "source": [
        "# Ensemble with Voting Classifier"
      ]
    },
    {
      "cell_type": "code",
      "metadata": {
        "colab": {
          "base_uri": "https://localhost:8080/"
        },
        "id": "oMaclV_oCfnM",
        "outputId": "21f042ec-3342-4e67-beec-970a01329322"
      },
      "source": [
        "#Ensemble with Voting Classifier to Improve the  – “F1-Score” and Predict Target “is_promoted”\r\n",
        "\r\n",
        "voting_model = VotingClassifier(estimators=[\r\n",
        "('XGBoost_Best', list(Classifiers.values())[0]),\r\n",
        "('CatBoost_Best', list(Classifiers.values())[1]),\r\n",
        "('LightGBM_Best', list(Classifiers.values())[2]),\r\n",
        "],\r\n",
        "voting='soft',weights=[5,5,5.2])\r\n",
        "voting_model.fit(X_train_scale,y_train)\r\n",
        "predictions_of_voting = voting_model.predict_proba( X_test_scale )[::,1]"
      ],
      "execution_count": 345,
      "outputs": [
        {
          "output_type": "stream",
          "text": [
            "0:\tlearn: 0.5917985\ttotal: 20.4ms\tremaining: 10.1s\n",
            "1:\tlearn: 0.5023743\ttotal: 40.1ms\tremaining: 9.86s\n",
            "2:\tlearn: 0.4572012\ttotal: 59.7ms\tremaining: 9.77s\n",
            "3:\tlearn: 0.4260434\ttotal: 79.5ms\tremaining: 9.74s\n",
            "4:\tlearn: 0.4091111\ttotal: 99.2ms\tremaining: 9.7s\n",
            "5:\tlearn: 0.3899053\ttotal: 118ms\tremaining: 9.61s\n",
            "6:\tlearn: 0.3755573\ttotal: 137ms\tremaining: 9.53s\n",
            "7:\tlearn: 0.3713260\ttotal: 156ms\tremaining: 9.45s\n",
            "8:\tlearn: 0.3643498\ttotal: 175ms\tremaining: 9.43s\n",
            "9:\tlearn: 0.3563764\ttotal: 192ms\tremaining: 9.31s\n",
            "10:\tlearn: 0.3535250\ttotal: 211ms\tremaining: 9.25s\n",
            "11:\tlearn: 0.3394588\ttotal: 235ms\tremaining: 9.42s\n",
            "12:\tlearn: 0.3271270\ttotal: 254ms\tremaining: 9.38s\n",
            "13:\tlearn: 0.3217159\ttotal: 273ms\tremaining: 9.37s\n",
            "14:\tlearn: 0.3201475\ttotal: 290ms\tremaining: 9.25s\n",
            "15:\tlearn: 0.3161955\ttotal: 308ms\tremaining: 9.19s\n",
            "16:\tlearn: 0.3146470\ttotal: 327ms\tremaining: 9.18s\n",
            "17:\tlearn: 0.3122251\ttotal: 343ms\tremaining: 9.07s\n",
            "18:\tlearn: 0.3064443\ttotal: 363ms\tremaining: 9.06s\n",
            "19:\tlearn: 0.3057206\ttotal: 379ms\tremaining: 8.98s\n",
            "20:\tlearn: 0.3054077\ttotal: 398ms\tremaining: 8.96s\n",
            "21:\tlearn: 0.3044457\ttotal: 416ms\tremaining: 8.93s\n",
            "22:\tlearn: 0.3011042\ttotal: 438ms\tremaining: 8.98s\n",
            "23:\tlearn: 0.2998240\ttotal: 457ms\tremaining: 8.95s\n",
            "24:\tlearn: 0.2987211\ttotal: 476ms\tremaining: 8.93s\n",
            "25:\tlearn: 0.2983807\ttotal: 495ms\tremaining: 8.91s\n",
            "26:\tlearn: 0.2949717\ttotal: 515ms\tremaining: 8.9s\n",
            "27:\tlearn: 0.2946776\ttotal: 530ms\tremaining: 8.83s\n",
            "28:\tlearn: 0.2933910\ttotal: 549ms\tremaining: 8.81s\n",
            "29:\tlearn: 0.2929046\ttotal: 567ms\tremaining: 8.77s\n",
            "30:\tlearn: 0.2924100\ttotal: 582ms\tremaining: 8.7s\n",
            "31:\tlearn: 0.2919189\ttotal: 601ms\tremaining: 8.68s\n",
            "32:\tlearn: 0.2916297\ttotal: 620ms\tremaining: 8.66s\n",
            "33:\tlearn: 0.2914794\ttotal: 643ms\tremaining: 8.69s\n",
            "34:\tlearn: 0.2865490\ttotal: 661ms\tremaining: 8.67s\n",
            "35:\tlearn: 0.2863928\ttotal: 680ms\tremaining: 8.64s\n",
            "36:\tlearn: 0.2859581\ttotal: 699ms\tremaining: 8.63s\n",
            "37:\tlearn: 0.2836458\ttotal: 718ms\tremaining: 8.61s\n",
            "38:\tlearn: 0.2830033\ttotal: 737ms\tremaining: 8.6s\n",
            "39:\tlearn: 0.2825896\ttotal: 759ms\tremaining: 8.62s\n",
            "40:\tlearn: 0.2817697\ttotal: 778ms\tremaining: 8.59s\n",
            "41:\tlearn: 0.2816383\ttotal: 797ms\tremaining: 8.57s\n",
            "42:\tlearn: 0.2811506\ttotal: 816ms\tremaining: 8.56s\n",
            "43:\tlearn: 0.2809421\ttotal: 847ms\tremaining: 8.66s\n",
            "44:\tlearn: 0.2805629\ttotal: 867ms\tremaining: 8.65s\n",
            "45:\tlearn: 0.2804863\ttotal: 887ms\tremaining: 8.63s\n",
            "46:\tlearn: 0.2802985\ttotal: 906ms\tremaining: 8.62s\n",
            "47:\tlearn: 0.2800938\ttotal: 922ms\tremaining: 8.57s\n",
            "48:\tlearn: 0.2798945\ttotal: 941ms\tremaining: 8.55s\n",
            "49:\tlearn: 0.2797717\ttotal: 960ms\tremaining: 8.53s\n",
            "50:\tlearn: 0.2797012\ttotal: 981ms\tremaining: 8.52s\n",
            "51:\tlearn: 0.2792679\ttotal: 1000ms\tremaining: 8.5s\n",
            "52:\tlearn: 0.2790214\ttotal: 1.02s\tremaining: 8.48s\n",
            "53:\tlearn: 0.2788825\ttotal: 1.04s\tremaining: 8.46s\n",
            "54:\tlearn: 0.2787811\ttotal: 1.06s\tremaining: 8.47s\n",
            "55:\tlearn: 0.2784581\ttotal: 1.08s\tremaining: 8.45s\n",
            "56:\tlearn: 0.2783155\ttotal: 1.1s\tremaining: 8.43s\n",
            "57:\tlearn: 0.2782467\ttotal: 1.12s\tremaining: 8.41s\n",
            "58:\tlearn: 0.2780852\ttotal: 1.14s\tremaining: 8.39s\n",
            "59:\tlearn: 0.2778449\ttotal: 1.16s\tremaining: 8.36s\n",
            "60:\tlearn: 0.2777425\ttotal: 1.17s\tremaining: 8.34s\n",
            "61:\tlearn: 0.2776331\ttotal: 1.19s\tremaining: 8.31s\n",
            "62:\tlearn: 0.2774488\ttotal: 1.21s\tremaining: 8.29s\n",
            "63:\tlearn: 0.2771524\ttotal: 1.23s\tremaining: 8.28s\n",
            "64:\tlearn: 0.2770007\ttotal: 1.25s\tremaining: 8.26s\n",
            "65:\tlearn: 0.2768461\ttotal: 1.27s\tremaining: 8.27s\n",
            "66:\tlearn: 0.2766501\ttotal: 1.29s\tremaining: 8.26s\n",
            "67:\tlearn: 0.2765610\ttotal: 1.32s\tremaining: 8.26s\n",
            "68:\tlearn: 0.2764961\ttotal: 1.34s\tremaining: 8.25s\n",
            "69:\tlearn: 0.2764221\ttotal: 1.36s\tremaining: 8.23s\n",
            "70:\tlearn: 0.2762782\ttotal: 1.38s\tremaining: 8.21s\n",
            "71:\tlearn: 0.2761723\ttotal: 1.4s\tremaining: 8.19s\n",
            "72:\tlearn: 0.2760087\ttotal: 1.42s\tremaining: 8.17s\n",
            "73:\tlearn: 0.2758250\ttotal: 1.44s\tremaining: 8.15s\n",
            "74:\tlearn: 0.2757715\ttotal: 1.46s\tremaining: 8.13s\n",
            "75:\tlearn: 0.2745116\ttotal: 1.48s\tremaining: 8.11s\n",
            "76:\tlearn: 0.2743569\ttotal: 1.5s\tremaining: 8.11s\n",
            "77:\tlearn: 0.2741687\ttotal: 1.51s\tremaining: 8.07s\n",
            "78:\tlearn: 0.2735002\ttotal: 1.53s\tremaining: 8.04s\n",
            "79:\tlearn: 0.2721445\ttotal: 1.55s\tremaining: 8.02s\n",
            "80:\tlearn: 0.2720879\ttotal: 1.57s\tremaining: 8s\n",
            "81:\tlearn: 0.2719746\ttotal: 1.59s\tremaining: 7.98s\n",
            "82:\tlearn: 0.2708470\ttotal: 1.61s\tremaining: 7.96s\n",
            "83:\tlearn: 0.2706326\ttotal: 1.63s\tremaining: 7.94s\n",
            "84:\tlearn: 0.2704613\ttotal: 1.65s\tremaining: 7.93s\n",
            "85:\tlearn: 0.2704058\ttotal: 1.67s\tremaining: 7.91s\n",
            "86:\tlearn: 0.2696675\ttotal: 1.69s\tremaining: 7.91s\n",
            "87:\tlearn: 0.2694984\ttotal: 1.71s\tremaining: 7.88s\n",
            "88:\tlearn: 0.2693936\ttotal: 1.73s\tremaining: 7.86s\n",
            "89:\tlearn: 0.2692459\ttotal: 1.75s\tremaining: 7.84s\n",
            "90:\tlearn: 0.2688797\ttotal: 1.76s\tremaining: 7.81s\n",
            "91:\tlearn: 0.2678251\ttotal: 1.78s\tremaining: 7.79s\n",
            "92:\tlearn: 0.2676552\ttotal: 1.8s\tremaining: 7.77s\n",
            "93:\tlearn: 0.2671393\ttotal: 1.83s\tremaining: 7.77s\n",
            "94:\tlearn: 0.2670583\ttotal: 1.85s\tremaining: 7.77s\n",
            "95:\tlearn: 0.2669473\ttotal: 1.87s\tremaining: 7.75s\n",
            "96:\tlearn: 0.2667620\ttotal: 1.89s\tremaining: 7.73s\n",
            "97:\tlearn: 0.2666967\ttotal: 1.91s\tremaining: 7.72s\n",
            "98:\tlearn: 0.2666083\ttotal: 1.93s\tremaining: 7.7s\n",
            "99:\tlearn: 0.2661081\ttotal: 1.95s\tremaining: 7.67s\n",
            "100:\tlearn: 0.2659997\ttotal: 1.97s\tremaining: 7.65s\n",
            "101:\tlearn: 0.2659094\ttotal: 1.99s\tremaining: 7.63s\n",
            "102:\tlearn: 0.2656796\ttotal: 2s\tremaining: 7.61s\n",
            "103:\tlearn: 0.2655425\ttotal: 2.02s\tremaining: 7.59s\n",
            "104:\tlearn: 0.2641141\ttotal: 2.04s\tremaining: 7.57s\n",
            "105:\tlearn: 0.2639469\ttotal: 2.06s\tremaining: 7.55s\n",
            "106:\tlearn: 0.2639171\ttotal: 2.08s\tremaining: 7.53s\n",
            "107:\tlearn: 0.2638846\ttotal: 2.1s\tremaining: 7.51s\n",
            "108:\tlearn: 0.2637630\ttotal: 2.12s\tremaining: 7.5s\n",
            "109:\tlearn: 0.2636519\ttotal: 2.14s\tremaining: 7.48s\n",
            "110:\tlearn: 0.2635921\ttotal: 2.16s\tremaining: 7.46s\n",
            "111:\tlearn: 0.2634667\ttotal: 2.18s\tremaining: 7.43s\n",
            "112:\tlearn: 0.2633786\ttotal: 2.2s\tremaining: 7.41s\n",
            "113:\tlearn: 0.2626985\ttotal: 2.22s\tremaining: 7.39s\n",
            "114:\tlearn: 0.2625143\ttotal: 2.24s\tremaining: 7.37s\n",
            "115:\tlearn: 0.2623452\ttotal: 2.25s\tremaining: 7.35s\n",
            "116:\tlearn: 0.2621821\ttotal: 2.27s\tremaining: 7.33s\n",
            "117:\tlearn: 0.2620425\ttotal: 2.3s\tremaining: 7.32s\n",
            "118:\tlearn: 0.2619182\ttotal: 2.32s\tremaining: 7.31s\n",
            "119:\tlearn: 0.2617437\ttotal: 2.34s\tremaining: 7.3s\n",
            "120:\tlearn: 0.2614657\ttotal: 2.36s\tremaining: 7.29s\n",
            "121:\tlearn: 0.2613740\ttotal: 2.38s\tremaining: 7.26s\n",
            "122:\tlearn: 0.2612863\ttotal: 2.4s\tremaining: 7.25s\n",
            "123:\tlearn: 0.2612328\ttotal: 2.42s\tremaining: 7.23s\n",
            "124:\tlearn: 0.2611386\ttotal: 2.44s\tremaining: 7.21s\n",
            "125:\tlearn: 0.2610141\ttotal: 2.46s\tremaining: 7.18s\n",
            "126:\tlearn: 0.2600884\ttotal: 2.48s\tremaining: 7.16s\n",
            "127:\tlearn: 0.2599135\ttotal: 2.5s\tremaining: 7.14s\n",
            "128:\tlearn: 0.2598300\ttotal: 2.52s\tremaining: 7.12s\n",
            "129:\tlearn: 0.2597326\ttotal: 2.54s\tremaining: 7.1s\n",
            "130:\tlearn: 0.2596793\ttotal: 2.56s\tremaining: 7.09s\n",
            "131:\tlearn: 0.2596208\ttotal: 2.58s\tremaining: 7.07s\n",
            "132:\tlearn: 0.2595423\ttotal: 2.6s\tremaining: 7.05s\n",
            "133:\tlearn: 0.2594478\ttotal: 2.62s\tremaining: 7.04s\n",
            "134:\tlearn: 0.2593024\ttotal: 2.64s\tremaining: 7.02s\n",
            "135:\tlearn: 0.2576210\ttotal: 2.66s\tremaining: 6.99s\n",
            "136:\tlearn: 0.2575072\ttotal: 2.68s\tremaining: 6.97s\n",
            "137:\tlearn: 0.2574520\ttotal: 2.69s\tremaining: 6.95s\n",
            "138:\tlearn: 0.2573664\ttotal: 2.71s\tremaining: 6.94s\n",
            "139:\tlearn: 0.2573200\ttotal: 2.73s\tremaining: 6.92s\n",
            "140:\tlearn: 0.2572654\ttotal: 2.75s\tremaining: 6.9s\n",
            "141:\tlearn: 0.2572210\ttotal: 2.78s\tremaining: 6.89s\n",
            "142:\tlearn: 0.2570982\ttotal: 2.8s\tremaining: 6.87s\n",
            "143:\tlearn: 0.2570571\ttotal: 2.82s\tremaining: 6.85s\n",
            "144:\tlearn: 0.2569076\ttotal: 2.85s\tremaining: 6.86s\n",
            "145:\tlearn: 0.2568433\ttotal: 2.87s\tremaining: 6.83s\n",
            "146:\tlearn: 0.2567679\ttotal: 2.89s\tremaining: 6.82s\n",
            "147:\tlearn: 0.2565987\ttotal: 2.91s\tremaining: 6.8s\n",
            "148:\tlearn: 0.2565275\ttotal: 2.93s\tremaining: 6.78s\n",
            "149:\tlearn: 0.2563669\ttotal: 2.94s\tremaining: 6.75s\n",
            "150:\tlearn: 0.2563165\ttotal: 2.96s\tremaining: 6.73s\n",
            "151:\tlearn: 0.2562211\ttotal: 2.99s\tremaining: 6.72s\n",
            "152:\tlearn: 0.2561470\ttotal: 3.01s\tremaining: 6.7s\n",
            "153:\tlearn: 0.2560419\ttotal: 3.04s\tremaining: 6.71s\n",
            "154:\tlearn: 0.2559314\ttotal: 3.06s\tremaining: 6.69s\n",
            "155:\tlearn: 0.2557953\ttotal: 3.08s\tremaining: 6.67s\n",
            "156:\tlearn: 0.2557630\ttotal: 3.1s\tremaining: 6.65s\n",
            "157:\tlearn: 0.2557368\ttotal: 3.12s\tremaining: 6.63s\n",
            "158:\tlearn: 0.2556933\ttotal: 3.13s\tremaining: 6.61s\n",
            "159:\tlearn: 0.2555887\ttotal: 3.15s\tremaining: 6.59s\n",
            "160:\tlearn: 0.2555565\ttotal: 3.17s\tremaining: 6.57s\n",
            "161:\tlearn: 0.2554055\ttotal: 3.2s\tremaining: 6.55s\n",
            "162:\tlearn: 0.2553554\ttotal: 3.22s\tremaining: 6.53s\n",
            "163:\tlearn: 0.2550104\ttotal: 3.24s\tremaining: 6.51s\n",
            "164:\tlearn: 0.2549200\ttotal: 3.25s\tremaining: 6.49s\n",
            "165:\tlearn: 0.2548279\ttotal: 3.27s\tremaining: 6.47s\n",
            "166:\tlearn: 0.2547581\ttotal: 3.29s\tremaining: 6.45s\n",
            "167:\tlearn: 0.2546750\ttotal: 3.31s\tremaining: 6.43s\n",
            "168:\tlearn: 0.2545877\ttotal: 3.33s\tremaining: 6.41s\n",
            "169:\tlearn: 0.2544927\ttotal: 3.35s\tremaining: 6.39s\n",
            "170:\tlearn: 0.2544235\ttotal: 3.37s\tremaining: 6.37s\n",
            "171:\tlearn: 0.2543816\ttotal: 3.39s\tremaining: 6.35s\n",
            "172:\tlearn: 0.2542721\ttotal: 3.41s\tremaining: 6.33s\n",
            "173:\tlearn: 0.2542243\ttotal: 3.43s\tremaining: 6.31s\n",
            "174:\tlearn: 0.2541294\ttotal: 3.45s\tremaining: 6.29s\n",
            "175:\tlearn: 0.2540409\ttotal: 3.47s\tremaining: 6.27s\n",
            "176:\tlearn: 0.2539299\ttotal: 3.49s\tremaining: 6.25s\n",
            "177:\tlearn: 0.2538667\ttotal: 3.51s\tremaining: 6.23s\n",
            "178:\tlearn: 0.2538105\ttotal: 3.53s\tremaining: 6.21s\n",
            "179:\tlearn: 0.2536744\ttotal: 3.55s\tremaining: 6.19s\n",
            "180:\tlearn: 0.2536210\ttotal: 3.57s\tremaining: 6.17s\n",
            "181:\tlearn: 0.2535408\ttotal: 3.59s\tremaining: 6.15s\n",
            "182:\tlearn: 0.2535116\ttotal: 3.61s\tremaining: 6.13s\n",
            "183:\tlearn: 0.2534257\ttotal: 3.63s\tremaining: 6.12s\n",
            "184:\tlearn: 0.2533666\ttotal: 3.65s\tremaining: 6.1s\n",
            "185:\tlearn: 0.2532100\ttotal: 3.67s\tremaining: 6.08s\n",
            "186:\tlearn: 0.2531691\ttotal: 3.69s\tremaining: 6.07s\n",
            "187:\tlearn: 0.2530809\ttotal: 3.71s\tremaining: 6.05s\n",
            "188:\tlearn: 0.2530061\ttotal: 3.74s\tremaining: 6.03s\n",
            "189:\tlearn: 0.2528982\ttotal: 3.75s\tremaining: 6.01s\n",
            "190:\tlearn: 0.2528333\ttotal: 3.77s\tremaining: 5.99s\n",
            "191:\tlearn: 0.2527710\ttotal: 3.79s\tremaining: 5.97s\n",
            "192:\tlearn: 0.2527317\ttotal: 3.81s\tremaining: 5.95s\n",
            "193:\tlearn: 0.2526961\ttotal: 3.84s\tremaining: 5.95s\n",
            "194:\tlearn: 0.2526176\ttotal: 3.86s\tremaining: 5.92s\n",
            "195:\tlearn: 0.2525624\ttotal: 3.88s\tremaining: 5.9s\n",
            "196:\tlearn: 0.2519369\ttotal: 3.91s\tremaining: 5.9s\n",
            "197:\tlearn: 0.2519076\ttotal: 3.94s\tremaining: 5.89s\n",
            "198:\tlearn: 0.2518580\ttotal: 3.96s\tremaining: 5.87s\n",
            "199:\tlearn: 0.2516727\ttotal: 3.98s\tremaining: 5.85s\n",
            "200:\tlearn: 0.2515487\ttotal: 4s\tremaining: 5.83s\n",
            "201:\tlearn: 0.2514648\ttotal: 4.02s\tremaining: 5.81s\n",
            "202:\tlearn: 0.2513795\ttotal: 4.04s\tremaining: 5.79s\n",
            "203:\tlearn: 0.2512993\ttotal: 4.06s\tremaining: 5.77s\n",
            "204:\tlearn: 0.2511616\ttotal: 4.08s\tremaining: 5.75s\n",
            "205:\tlearn: 0.2510758\ttotal: 4.1s\tremaining: 5.73s\n",
            "206:\tlearn: 0.2510131\ttotal: 4.12s\tremaining: 5.71s\n",
            "207:\tlearn: 0.2509132\ttotal: 4.13s\tremaining: 5.68s\n",
            "208:\tlearn: 0.2508154\ttotal: 4.15s\tremaining: 5.67s\n",
            "209:\tlearn: 0.2507250\ttotal: 4.17s\tremaining: 5.64s\n",
            "210:\tlearn: 0.2506579\ttotal: 4.19s\tremaining: 5.63s\n",
            "211:\tlearn: 0.2506211\ttotal: 4.22s\tremaining: 5.61s\n",
            "212:\tlearn: 0.2505309\ttotal: 4.24s\tremaining: 5.59s\n",
            "213:\tlearn: 0.2504468\ttotal: 4.26s\tremaining: 5.57s\n",
            "214:\tlearn: 0.2503791\ttotal: 4.28s\tremaining: 5.55s\n",
            "215:\tlearn: 0.2502770\ttotal: 4.3s\tremaining: 5.54s\n",
            "216:\tlearn: 0.2501274\ttotal: 4.32s\tremaining: 5.51s\n",
            "217:\tlearn: 0.2500639\ttotal: 4.34s\tremaining: 5.49s\n",
            "218:\tlearn: 0.2500062\ttotal: 4.36s\tremaining: 5.47s\n",
            "219:\tlearn: 0.2499538\ttotal: 4.38s\tremaining: 5.45s\n",
            "220:\tlearn: 0.2498307\ttotal: 4.4s\tremaining: 5.43s\n",
            "221:\tlearn: 0.2497904\ttotal: 4.42s\tremaining: 5.41s\n",
            "222:\tlearn: 0.2497314\ttotal: 4.43s\tremaining: 5.39s\n",
            "223:\tlearn: 0.2496367\ttotal: 4.45s\tremaining: 5.37s\n",
            "224:\tlearn: 0.2495595\ttotal: 4.47s\tremaining: 5.35s\n",
            "225:\tlearn: 0.2494107\ttotal: 4.5s\tremaining: 5.33s\n",
            "226:\tlearn: 0.2493478\ttotal: 4.51s\tremaining: 5.31s\n",
            "227:\tlearn: 0.2492959\ttotal: 4.53s\tremaining: 5.29s\n",
            "228:\tlearn: 0.2492544\ttotal: 4.55s\tremaining: 5.27s\n",
            "229:\tlearn: 0.2492088\ttotal: 4.57s\tremaining: 5.25s\n",
            "230:\tlearn: 0.2491400\ttotal: 4.59s\tremaining: 5.23s\n",
            "231:\tlearn: 0.2489359\ttotal: 4.61s\tremaining: 5.21s\n",
            "232:\tlearn: 0.2488444\ttotal: 4.63s\tremaining: 5.18s\n",
            "233:\tlearn: 0.2487092\ttotal: 4.64s\tremaining: 5.16s\n",
            "234:\tlearn: 0.2486668\ttotal: 4.66s\tremaining: 5.14s\n",
            "235:\tlearn: 0.2485796\ttotal: 4.68s\tremaining: 5.12s\n",
            "236:\tlearn: 0.2484997\ttotal: 4.71s\tremaining: 5.1s\n",
            "237:\tlearn: 0.2484426\ttotal: 4.73s\tremaining: 5.08s\n",
            "238:\tlearn: 0.2483523\ttotal: 4.75s\tremaining: 5.07s\n",
            "239:\tlearn: 0.2483171\ttotal: 4.77s\tremaining: 5.05s\n",
            "240:\tlearn: 0.2482556\ttotal: 4.79s\tremaining: 5.03s\n",
            "241:\tlearn: 0.2481626\ttotal: 4.81s\tremaining: 5s\n",
            "242:\tlearn: 0.2480846\ttotal: 4.84s\tremaining: 5s\n",
            "243:\tlearn: 0.2479929\ttotal: 4.85s\tremaining: 4.97s\n",
            "244:\tlearn: 0.2479401\ttotal: 4.87s\tremaining: 4.95s\n",
            "245:\tlearn: 0.2479188\ttotal: 4.89s\tremaining: 4.93s\n",
            "246:\tlearn: 0.2478494\ttotal: 4.92s\tremaining: 4.92s\n",
            "247:\tlearn: 0.2477749\ttotal: 4.94s\tremaining: 4.9s\n",
            "248:\tlearn: 0.2476963\ttotal: 4.96s\tremaining: 4.88s\n",
            "249:\tlearn: 0.2476000\ttotal: 4.97s\tremaining: 4.86s\n",
            "250:\tlearn: 0.2475415\ttotal: 5s\tremaining: 4.84s\n",
            "251:\tlearn: 0.2474311\ttotal: 5.01s\tremaining: 4.82s\n",
            "252:\tlearn: 0.2473023\ttotal: 5.03s\tremaining: 4.79s\n",
            "253:\tlearn: 0.2472227\ttotal: 5.05s\tremaining: 4.77s\n",
            "254:\tlearn: 0.2471732\ttotal: 5.07s\tremaining: 4.75s\n",
            "255:\tlearn: 0.2471303\ttotal: 5.09s\tremaining: 4.74s\n",
            "256:\tlearn: 0.2470827\ttotal: 5.11s\tremaining: 4.71s\n",
            "257:\tlearn: 0.2470157\ttotal: 5.13s\tremaining: 4.7s\n",
            "258:\tlearn: 0.2469164\ttotal: 5.16s\tremaining: 4.68s\n",
            "259:\tlearn: 0.2468406\ttotal: 5.17s\tremaining: 4.66s\n",
            "260:\tlearn: 0.2467668\ttotal: 5.2s\tremaining: 4.64s\n",
            "261:\tlearn: 0.2467190\ttotal: 5.21s\tremaining: 4.62s\n",
            "262:\tlearn: 0.2466265\ttotal: 5.23s\tremaining: 4.6s\n",
            "263:\tlearn: 0.2465245\ttotal: 5.25s\tremaining: 4.58s\n",
            "264:\tlearn: 0.2464315\ttotal: 5.27s\tremaining: 4.56s\n",
            "265:\tlearn: 0.2463664\ttotal: 5.29s\tremaining: 4.54s\n",
            "266:\tlearn: 0.2462142\ttotal: 5.31s\tremaining: 4.52s\n",
            "267:\tlearn: 0.2461385\ttotal: 5.33s\tremaining: 4.5s\n",
            "268:\tlearn: 0.2460652\ttotal: 5.36s\tremaining: 4.49s\n",
            "269:\tlearn: 0.2460245\ttotal: 5.38s\tremaining: 4.46s\n",
            "270:\tlearn: 0.2459736\ttotal: 5.4s\tremaining: 4.45s\n",
            "271:\tlearn: 0.2459413\ttotal: 5.42s\tremaining: 4.43s\n",
            "272:\tlearn: 0.2458778\ttotal: 5.44s\tremaining: 4.41s\n",
            "273:\tlearn: 0.2458004\ttotal: 5.46s\tremaining: 4.39s\n",
            "274:\tlearn: 0.2457348\ttotal: 5.48s\tremaining: 4.37s\n",
            "275:\tlearn: 0.2457015\ttotal: 5.5s\tremaining: 4.35s\n",
            "276:\tlearn: 0.2456767\ttotal: 5.52s\tremaining: 4.33s\n",
            "277:\tlearn: 0.2456273\ttotal: 5.54s\tremaining: 4.31s\n",
            "278:\tlearn: 0.2455210\ttotal: 5.57s\tremaining: 4.29s\n",
            "279:\tlearn: 0.2454829\ttotal: 5.59s\tremaining: 4.27s\n",
            "280:\tlearn: 0.2454153\ttotal: 5.61s\tremaining: 4.25s\n",
            "281:\tlearn: 0.2453317\ttotal: 5.63s\tremaining: 4.23s\n",
            "282:\tlearn: 0.2452988\ttotal: 5.64s\tremaining: 4.21s\n",
            "283:\tlearn: 0.2452437\ttotal: 5.66s\tremaining: 4.19s\n",
            "284:\tlearn: 0.2451676\ttotal: 5.68s\tremaining: 4.17s\n",
            "285:\tlearn: 0.2451163\ttotal: 5.72s\tremaining: 4.16s\n",
            "286:\tlearn: 0.2450578\ttotal: 5.74s\tremaining: 4.14s\n",
            "287:\tlearn: 0.2449956\ttotal: 5.76s\tremaining: 4.12s\n",
            "288:\tlearn: 0.2449253\ttotal: 5.78s\tremaining: 4.1s\n",
            "289:\tlearn: 0.2448884\ttotal: 5.8s\tremaining: 4.08s\n",
            "290:\tlearn: 0.2448282\ttotal: 5.83s\tremaining: 4.07s\n",
            "291:\tlearn: 0.2447679\ttotal: 5.85s\tremaining: 4.05s\n",
            "292:\tlearn: 0.2446723\ttotal: 5.87s\tremaining: 4.03s\n",
            "293:\tlearn: 0.2446172\ttotal: 5.89s\tremaining: 4.01s\n",
            "294:\tlearn: 0.2443475\ttotal: 5.92s\tremaining: 3.99s\n",
            "295:\tlearn: 0.2442415\ttotal: 5.94s\tremaining: 3.97s\n",
            "296:\tlearn: 0.2441820\ttotal: 5.96s\tremaining: 3.95s\n",
            "297:\tlearn: 0.2441264\ttotal: 5.98s\tremaining: 3.93s\n",
            "298:\tlearn: 0.2440509\ttotal: 6s\tremaining: 3.91s\n",
            "299:\tlearn: 0.2440134\ttotal: 6.02s\tremaining: 3.89s\n",
            "300:\tlearn: 0.2439555\ttotal: 6.04s\tremaining: 3.87s\n",
            "301:\tlearn: 0.2438497\ttotal: 6.06s\tremaining: 3.85s\n",
            "302:\tlearn: 0.2437491\ttotal: 6.08s\tremaining: 3.83s\n",
            "303:\tlearn: 0.2437253\ttotal: 6.1s\tremaining: 3.81s\n",
            "304:\tlearn: 0.2437005\ttotal: 6.12s\tremaining: 3.79s\n",
            "305:\tlearn: 0.2436402\ttotal: 6.14s\tremaining: 3.77s\n",
            "306:\tlearn: 0.2435448\ttotal: 6.17s\tremaining: 3.75s\n",
            "307:\tlearn: 0.2420031\ttotal: 6.19s\tremaining: 3.74s\n",
            "308:\tlearn: 0.2419141\ttotal: 6.21s\tremaining: 3.72s\n",
            "309:\tlearn: 0.2418804\ttotal: 6.23s\tremaining: 3.7s\n",
            "310:\tlearn: 0.2417989\ttotal: 6.25s\tremaining: 3.68s\n",
            "311:\tlearn: 0.2416090\ttotal: 6.27s\tremaining: 3.66s\n",
            "312:\tlearn: 0.2415628\ttotal: 6.29s\tremaining: 3.64s\n",
            "313:\tlearn: 0.2415318\ttotal: 6.31s\tremaining: 3.62s\n",
            "314:\tlearn: 0.2415024\ttotal: 6.33s\tremaining: 3.6s\n",
            "315:\tlearn: 0.2414361\ttotal: 6.35s\tremaining: 3.58s\n",
            "316:\tlearn: 0.2412134\ttotal: 6.37s\tremaining: 3.56s\n",
            "317:\tlearn: 0.2411310\ttotal: 6.4s\tremaining: 3.54s\n",
            "318:\tlearn: 0.2410650\ttotal: 6.42s\tremaining: 3.52s\n",
            "319:\tlearn: 0.2409910\ttotal: 6.44s\tremaining: 3.5s\n",
            "320:\tlearn: 0.2409593\ttotal: 6.46s\tremaining: 3.48s\n",
            "321:\tlearn: 0.2409132\ttotal: 6.48s\tremaining: 3.46s\n",
            "322:\tlearn: 0.2408779\ttotal: 6.5s\tremaining: 3.44s\n",
            "323:\tlearn: 0.2408488\ttotal: 6.51s\tremaining: 3.42s\n",
            "324:\tlearn: 0.2407814\ttotal: 6.53s\tremaining: 3.4s\n",
            "325:\tlearn: 0.2407014\ttotal: 6.55s\tremaining: 3.38s\n",
            "326:\tlearn: 0.2406580\ttotal: 6.57s\tremaining: 3.36s\n",
            "327:\tlearn: 0.2406120\ttotal: 6.59s\tremaining: 3.34s\n",
            "328:\tlearn: 0.2405014\ttotal: 6.62s\tremaining: 3.32s\n",
            "329:\tlearn: 0.2404555\ttotal: 6.64s\tremaining: 3.3s\n",
            "330:\tlearn: 0.2403850\ttotal: 6.66s\tremaining: 3.28s\n",
            "331:\tlearn: 0.2403638\ttotal: 6.68s\tremaining: 3.26s\n",
            "332:\tlearn: 0.2402867\ttotal: 6.7s\tremaining: 3.24s\n",
            "333:\tlearn: 0.2402425\ttotal: 6.72s\tremaining: 3.22s\n",
            "334:\tlearn: 0.2401933\ttotal: 6.74s\tremaining: 3.2s\n",
            "335:\tlearn: 0.2400900\ttotal: 6.76s\tremaining: 3.18s\n",
            "336:\tlearn: 0.2399851\ttotal: 6.78s\tremaining: 3.16s\n",
            "337:\tlearn: 0.2399309\ttotal: 6.8s\tremaining: 3.14s\n",
            "338:\tlearn: 0.2398540\ttotal: 6.82s\tremaining: 3.12s\n",
            "339:\tlearn: 0.2398045\ttotal: 6.85s\tremaining: 3.1s\n",
            "340:\tlearn: 0.2397192\ttotal: 6.88s\tremaining: 3.08s\n",
            "341:\tlearn: 0.2396697\ttotal: 6.9s\tremaining: 3.06s\n",
            "342:\tlearn: 0.2395962\ttotal: 6.92s\tremaining: 3.04s\n",
            "343:\tlearn: 0.2395118\ttotal: 6.94s\tremaining: 3.02s\n",
            "344:\tlearn: 0.2394620\ttotal: 6.96s\tremaining: 3s\n",
            "345:\tlearn: 0.2393778\ttotal: 6.97s\tremaining: 2.98s\n",
            "346:\tlearn: 0.2393433\ttotal: 6.99s\tremaining: 2.96s\n",
            "347:\tlearn: 0.2393155\ttotal: 7.01s\tremaining: 2.94s\n",
            "348:\tlearn: 0.2392274\ttotal: 7.03s\tremaining: 2.92s\n",
            "349:\tlearn: 0.2391877\ttotal: 7.05s\tremaining: 2.9s\n",
            "350:\tlearn: 0.2391084\ttotal: 7.07s\tremaining: 2.88s\n",
            "351:\tlearn: 0.2390863\ttotal: 7.09s\tremaining: 2.86s\n",
            "352:\tlearn: 0.2389811\ttotal: 7.11s\tremaining: 2.84s\n",
            "353:\tlearn: 0.2389684\ttotal: 7.13s\tremaining: 2.82s\n",
            "354:\tlearn: 0.2389080\ttotal: 7.15s\tremaining: 2.8s\n",
            "355:\tlearn: 0.2388896\ttotal: 7.18s\tremaining: 2.78s\n",
            "356:\tlearn: 0.2388305\ttotal: 7.2s\tremaining: 2.76s\n",
            "357:\tlearn: 0.2386505\ttotal: 7.21s\tremaining: 2.74s\n",
            "358:\tlearn: 0.2385830\ttotal: 7.24s\tremaining: 2.72s\n",
            "359:\tlearn: 0.2385114\ttotal: 7.25s\tremaining: 2.7s\n",
            "360:\tlearn: 0.2384673\ttotal: 7.28s\tremaining: 2.68s\n",
            "361:\tlearn: 0.2384202\ttotal: 7.3s\tremaining: 2.66s\n",
            "362:\tlearn: 0.2384028\ttotal: 7.32s\tremaining: 2.64s\n",
            "363:\tlearn: 0.2383342\ttotal: 7.34s\tremaining: 2.62s\n",
            "364:\tlearn: 0.2382997\ttotal: 7.36s\tremaining: 2.6s\n",
            "365:\tlearn: 0.2382837\ttotal: 7.38s\tremaining: 2.58s\n",
            "366:\tlearn: 0.2382191\ttotal: 7.4s\tremaining: 2.56s\n",
            "367:\tlearn: 0.2381573\ttotal: 7.42s\tremaining: 2.54s\n",
            "368:\tlearn: 0.2380948\ttotal: 7.44s\tremaining: 2.52s\n",
            "369:\tlearn: 0.2380503\ttotal: 7.46s\tremaining: 2.5s\n",
            "370:\tlearn: 0.2379906\ttotal: 7.47s\tremaining: 2.48s\n",
            "371:\tlearn: 0.2379505\ttotal: 7.5s\tremaining: 2.46s\n",
            "372:\tlearn: 0.2378979\ttotal: 7.52s\tremaining: 2.44s\n",
            "373:\tlearn: 0.2378383\ttotal: 7.54s\tremaining: 2.42s\n",
            "374:\tlearn: 0.2378040\ttotal: 7.56s\tremaining: 2.4s\n",
            "375:\tlearn: 0.2377257\ttotal: 7.58s\tremaining: 2.38s\n",
            "376:\tlearn: 0.2376944\ttotal: 7.6s\tremaining: 2.36s\n",
            "377:\tlearn: 0.2376640\ttotal: 7.62s\tremaining: 2.34s\n",
            "378:\tlearn: 0.2375950\ttotal: 7.64s\tremaining: 2.32s\n",
            "379:\tlearn: 0.2375442\ttotal: 7.66s\tremaining: 2.3s\n",
            "380:\tlearn: 0.2375220\ttotal: 7.68s\tremaining: 2.28s\n",
            "381:\tlearn: 0.2374437\ttotal: 7.71s\tremaining: 2.26s\n",
            "382:\tlearn: 0.2373597\ttotal: 7.73s\tremaining: 2.24s\n",
            "383:\tlearn: 0.2373274\ttotal: 7.74s\tremaining: 2.22s\n",
            "384:\tlearn: 0.2372722\ttotal: 7.76s\tremaining: 2.2s\n",
            "385:\tlearn: 0.2372074\ttotal: 7.78s\tremaining: 2.18s\n",
            "386:\tlearn: 0.2371874\ttotal: 7.8s\tremaining: 2.16s\n",
            "387:\tlearn: 0.2371183\ttotal: 7.83s\tremaining: 2.14s\n",
            "388:\tlearn: 0.2370690\ttotal: 7.85s\tremaining: 2.12s\n",
            "389:\tlearn: 0.2366294\ttotal: 7.87s\tremaining: 2.1s\n",
            "390:\tlearn: 0.2365936\ttotal: 7.89s\tremaining: 2.08s\n",
            "391:\tlearn: 0.2365647\ttotal: 7.91s\tremaining: 2.06s\n",
            "392:\tlearn: 0.2364967\ttotal: 7.93s\tremaining: 2.04s\n",
            "393:\tlearn: 0.2364340\ttotal: 7.95s\tremaining: 2.02s\n",
            "394:\tlearn: 0.2363466\ttotal: 7.97s\tremaining: 2s\n",
            "395:\tlearn: 0.2362693\ttotal: 7.99s\tremaining: 1.98s\n",
            "396:\tlearn: 0.2362015\ttotal: 8.01s\tremaining: 1.96s\n",
            "397:\tlearn: 0.2361618\ttotal: 8.03s\tremaining: 1.94s\n",
            "398:\tlearn: 0.2360650\ttotal: 8.05s\tremaining: 1.92s\n",
            "399:\tlearn: 0.2360186\ttotal: 8.07s\tremaining: 1.9s\n",
            "400:\tlearn: 0.2359656\ttotal: 8.09s\tremaining: 1.88s\n",
            "401:\tlearn: 0.2355016\ttotal: 8.11s\tremaining: 1.86s\n",
            "402:\tlearn: 0.2354136\ttotal: 8.13s\tremaining: 1.84s\n",
            "403:\tlearn: 0.2353549\ttotal: 8.15s\tremaining: 1.82s\n",
            "404:\tlearn: 0.2353079\ttotal: 8.17s\tremaining: 1.8s\n",
            "405:\tlearn: 0.2352755\ttotal: 8.19s\tremaining: 1.78s\n",
            "406:\tlearn: 0.2352236\ttotal: 8.21s\tremaining: 1.75s\n",
            "407:\tlearn: 0.2351875\ttotal: 8.23s\tremaining: 1.74s\n",
            "408:\tlearn: 0.2350602\ttotal: 8.25s\tremaining: 1.72s\n",
            "409:\tlearn: 0.2350038\ttotal: 8.28s\tremaining: 1.7s\n",
            "410:\tlearn: 0.2349579\ttotal: 8.29s\tremaining: 1.68s\n",
            "411:\tlearn: 0.2348733\ttotal: 8.31s\tremaining: 1.65s\n",
            "412:\tlearn: 0.2348056\ttotal: 8.33s\tremaining: 1.63s\n",
            "413:\tlearn: 0.2347317\ttotal: 8.36s\tremaining: 1.61s\n",
            "414:\tlearn: 0.2346966\ttotal: 8.38s\tremaining: 1.59s\n",
            "415:\tlearn: 0.2346178\ttotal: 8.4s\tremaining: 1.57s\n",
            "416:\tlearn: 0.2345697\ttotal: 8.43s\tremaining: 1.55s\n",
            "417:\tlearn: 0.2344958\ttotal: 8.45s\tremaining: 1.53s\n",
            "418:\tlearn: 0.2344275\ttotal: 8.47s\tremaining: 1.51s\n",
            "419:\tlearn: 0.2343470\ttotal: 8.49s\tremaining: 1.5s\n",
            "420:\tlearn: 0.2342661\ttotal: 8.51s\tremaining: 1.48s\n",
            "421:\tlearn: 0.2342120\ttotal: 8.53s\tremaining: 1.45s\n",
            "422:\tlearn: 0.2341851\ttotal: 8.55s\tremaining: 1.43s\n",
            "423:\tlearn: 0.2341346\ttotal: 8.57s\tremaining: 1.41s\n",
            "424:\tlearn: 0.2341025\ttotal: 8.59s\tremaining: 1.39s\n",
            "425:\tlearn: 0.2340785\ttotal: 8.61s\tremaining: 1.37s\n",
            "426:\tlearn: 0.2340127\ttotal: 8.63s\tremaining: 1.35s\n",
            "427:\tlearn: 0.2339364\ttotal: 8.65s\tremaining: 1.33s\n",
            "428:\tlearn: 0.2339080\ttotal: 8.67s\tremaining: 1.31s\n",
            "429:\tlearn: 0.2338745\ttotal: 8.69s\tremaining: 1.29s\n",
            "430:\tlearn: 0.2337575\ttotal: 8.71s\tremaining: 1.27s\n",
            "431:\tlearn: 0.2336636\ttotal: 8.73s\tremaining: 1.25s\n",
            "432:\tlearn: 0.2335883\ttotal: 8.75s\tremaining: 1.23s\n",
            "433:\tlearn: 0.2335305\ttotal: 8.77s\tremaining: 1.21s\n",
            "434:\tlearn: 0.2334970\ttotal: 8.79s\tremaining: 1.19s\n",
            "435:\tlearn: 0.2334673\ttotal: 8.81s\tremaining: 1.17s\n",
            "436:\tlearn: 0.2334286\ttotal: 8.84s\tremaining: 1.15s\n",
            "437:\tlearn: 0.2334011\ttotal: 8.86s\tremaining: 1.13s\n",
            "438:\tlearn: 0.2333632\ttotal: 8.88s\tremaining: 1.11s\n",
            "439:\tlearn: 0.2333108\ttotal: 8.9s\tremaining: 1.09s\n",
            "440:\tlearn: 0.2332692\ttotal: 8.92s\tremaining: 1.07s\n",
            "441:\tlearn: 0.2332243\ttotal: 8.94s\tremaining: 1.05s\n",
            "442:\tlearn: 0.2331752\ttotal: 8.96s\tremaining: 1.03s\n",
            "443:\tlearn: 0.2331352\ttotal: 8.98s\tremaining: 1.01s\n",
            "444:\tlearn: 0.2331074\ttotal: 9s\tremaining: 991ms\n",
            "445:\tlearn: 0.2330660\ttotal: 9.02s\tremaining: 971ms\n",
            "446:\tlearn: 0.2329878\ttotal: 9.04s\tremaining: 951ms\n",
            "447:\tlearn: 0.2329352\ttotal: 9.06s\tremaining: 930ms\n",
            "448:\tlearn: 0.2327776\ttotal: 9.08s\tremaining: 910ms\n",
            "449:\tlearn: 0.2327470\ttotal: 9.1s\tremaining: 889ms\n",
            "450:\tlearn: 0.2326938\ttotal: 9.12s\tremaining: 869ms\n",
            "451:\tlearn: 0.2326430\ttotal: 9.13s\tremaining: 849ms\n",
            "452:\tlearn: 0.2325572\ttotal: 9.15s\tremaining: 829ms\n",
            "453:\tlearn: 0.2325022\ttotal: 9.17s\tremaining: 808ms\n",
            "454:\tlearn: 0.2324372\ttotal: 9.19s\tremaining: 788ms\n",
            "455:\tlearn: 0.2323640\ttotal: 9.21s\tremaining: 768ms\n",
            "456:\tlearn: 0.2323242\ttotal: 9.23s\tremaining: 748ms\n",
            "457:\tlearn: 0.2322617\ttotal: 9.25s\tremaining: 727ms\n",
            "458:\tlearn: 0.2321907\ttotal: 9.27s\tremaining: 707ms\n",
            "459:\tlearn: 0.2320919\ttotal: 9.29s\tremaining: 687ms\n",
            "460:\tlearn: 0.2320159\ttotal: 9.31s\tremaining: 667ms\n",
            "461:\tlearn: 0.2319404\ttotal: 9.33s\tremaining: 646ms\n",
            "462:\tlearn: 0.2319108\ttotal: 9.35s\tremaining: 626ms\n",
            "463:\tlearn: 0.2318537\ttotal: 9.37s\tremaining: 606ms\n",
            "464:\tlearn: 0.2317699\ttotal: 9.39s\tremaining: 586ms\n",
            "465:\tlearn: 0.2317194\ttotal: 9.41s\tremaining: 565ms\n",
            "466:\tlearn: 0.2316973\ttotal: 9.43s\tremaining: 545ms\n",
            "467:\tlearn: 0.2316248\ttotal: 9.45s\tremaining: 525ms\n",
            "468:\tlearn: 0.2316081\ttotal: 9.47s\tremaining: 505ms\n",
            "469:\tlearn: 0.2315531\ttotal: 9.49s\tremaining: 485ms\n",
            "470:\tlearn: 0.2314975\ttotal: 9.51s\tremaining: 464ms\n",
            "471:\tlearn: 0.2314839\ttotal: 9.53s\tremaining: 444ms\n",
            "472:\tlearn: 0.2314247\ttotal: 9.55s\tremaining: 424ms\n",
            "473:\tlearn: 0.2313547\ttotal: 9.57s\tremaining: 404ms\n",
            "474:\tlearn: 0.2312814\ttotal: 9.59s\tremaining: 383ms\n",
            "475:\tlearn: 0.2312249\ttotal: 9.61s\tremaining: 363ms\n",
            "476:\tlearn: 0.2311638\ttotal: 9.63s\tremaining: 343ms\n",
            "477:\tlearn: 0.2310425\ttotal: 9.65s\tremaining: 323ms\n",
            "478:\tlearn: 0.2309268\ttotal: 9.67s\tremaining: 303ms\n",
            "479:\tlearn: 0.2308492\ttotal: 9.69s\tremaining: 283ms\n",
            "480:\tlearn: 0.2308297\ttotal: 9.71s\tremaining: 263ms\n",
            "481:\tlearn: 0.2308114\ttotal: 9.73s\tremaining: 242ms\n",
            "482:\tlearn: 0.2307931\ttotal: 9.75s\tremaining: 222ms\n",
            "483:\tlearn: 0.2307507\ttotal: 9.77s\tremaining: 202ms\n",
            "484:\tlearn: 0.2306901\ttotal: 9.79s\tremaining: 182ms\n",
            "485:\tlearn: 0.2306492\ttotal: 9.81s\tremaining: 162ms\n",
            "486:\tlearn: 0.2305752\ttotal: 9.84s\tremaining: 141ms\n",
            "487:\tlearn: 0.2304896\ttotal: 9.87s\tremaining: 121ms\n",
            "488:\tlearn: 0.2304155\ttotal: 9.89s\tremaining: 101ms\n",
            "489:\tlearn: 0.2303843\ttotal: 9.91s\tremaining: 80.9ms\n",
            "490:\tlearn: 0.2303478\ttotal: 9.93s\tremaining: 60.7ms\n",
            "491:\tlearn: 0.2302976\ttotal: 9.95s\tremaining: 40.4ms\n",
            "492:\tlearn: 0.2302639\ttotal: 9.97s\tremaining: 20.2ms\n",
            "493:\tlearn: 0.2301588\ttotal: 9.99s\tremaining: 0us\n"
          ],
          "name": "stdout"
        }
      ]
    },
    {
      "cell_type": "code",
      "metadata": {
        "id": "xMJLGxlBC-Jz"
      },
      "source": [
        "#Result Submission, Check Leaderboard & Improve “F1” Score\r\n",
        "# Round off the Probability Results :\r\n",
        "predictions = [int(round(value)) for value in predictions_of_voting]"
      ],
      "execution_count": 346,
      "outputs": []
    },
    {
      "cell_type": "code",
      "metadata": {
        "colab": {
          "base_uri": "https://localhost:8080/",
          "height": 402
        },
        "id": "iCRRrq6_IsDm",
        "outputId": "e60d65ed-92a2-428c-8116-3a0d4eb29466"
      },
      "source": [
        "# Create a Dataframe Table for Submission Purpose :\r\n",
        "Result_Promoted = pd.DataFrame({'employee_id': test_data[\"employee_id\"], 'is_promoted' : predictions})\r\n",
        "Result_Promoted"
      ],
      "execution_count": 349,
      "outputs": [
        {
          "output_type": "execute_result",
          "data": {
            "text/html": [
              "<div>\n",
              "<style scoped>\n",
              "    .dataframe tbody tr th:only-of-type {\n",
              "        vertical-align: middle;\n",
              "    }\n",
              "\n",
              "    .dataframe tbody tr th {\n",
              "        vertical-align: top;\n",
              "    }\n",
              "\n",
              "    .dataframe thead th {\n",
              "        text-align: right;\n",
              "    }\n",
              "</style>\n",
              "<table border=\"1\" class=\"dataframe\">\n",
              "  <thead>\n",
              "    <tr style=\"text-align: right;\">\n",
              "      <th></th>\n",
              "      <th>employee_id</th>\n",
              "      <th>is_promoted</th>\n",
              "    </tr>\n",
              "  </thead>\n",
              "  <tbody>\n",
              "    <tr>\n",
              "      <th>0</th>\n",
              "      <td>8724</td>\n",
              "      <td>0</td>\n",
              "    </tr>\n",
              "    <tr>\n",
              "      <th>1</th>\n",
              "      <td>74430</td>\n",
              "      <td>0</td>\n",
              "    </tr>\n",
              "    <tr>\n",
              "      <th>2</th>\n",
              "      <td>72255</td>\n",
              "      <td>0</td>\n",
              "    </tr>\n",
              "    <tr>\n",
              "      <th>3</th>\n",
              "      <td>38562</td>\n",
              "      <td>0</td>\n",
              "    </tr>\n",
              "    <tr>\n",
              "      <th>4</th>\n",
              "      <td>64486</td>\n",
              "      <td>0</td>\n",
              "    </tr>\n",
              "    <tr>\n",
              "      <th>...</th>\n",
              "      <td>...</td>\n",
              "      <td>...</td>\n",
              "    </tr>\n",
              "    <tr>\n",
              "      <th>23485</th>\n",
              "      <td>53478</td>\n",
              "      <td>0</td>\n",
              "    </tr>\n",
              "    <tr>\n",
              "      <th>23486</th>\n",
              "      <td>25600</td>\n",
              "      <td>0</td>\n",
              "    </tr>\n",
              "    <tr>\n",
              "      <th>23487</th>\n",
              "      <td>45409</td>\n",
              "      <td>0</td>\n",
              "    </tr>\n",
              "    <tr>\n",
              "      <th>23488</th>\n",
              "      <td>1186</td>\n",
              "      <td>0</td>\n",
              "    </tr>\n",
              "    <tr>\n",
              "      <th>23489</th>\n",
              "      <td>5973</td>\n",
              "      <td>1</td>\n",
              "    </tr>\n",
              "  </tbody>\n",
              "</table>\n",
              "<p>23490 rows × 2 columns</p>\n",
              "</div>"
            ],
            "text/plain": [
              "       employee_id  is_promoted\n",
              "0             8724            0\n",
              "1            74430            0\n",
              "2            72255            0\n",
              "3            38562            0\n",
              "4            64486            0\n",
              "...            ...          ...\n",
              "23485        53478            0\n",
              "23486        25600            0\n",
              "23487        45409            0\n",
              "23488         1186            0\n",
              "23489         5973            1\n",
              "\n",
              "[23490 rows x 2 columns]"
            ]
          },
          "metadata": {
            "tags": []
          },
          "execution_count": 349
        }
      ]
    },
    {
      "cell_type": "code",
      "metadata": {
        "id": "usCnjLV3JmfN"
      },
      "source": [
        "Result_Promoted.to_csv(\"result.csv\",index=False)"
      ],
      "execution_count": 348,
      "outputs": []
    }
  ]
}